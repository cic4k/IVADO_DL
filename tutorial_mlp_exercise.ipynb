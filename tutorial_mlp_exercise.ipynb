{
  "nbformat": 4,
  "nbformat_minor": 0,
  "metadata": {
    "colab": {
      "name": "tutorial mlp - exercise.ipynb",
      "provenance": [],
      "collapsed_sections": [],
      "include_colab_link": true
    },
    "language_info": {
      "codemirror_mode": {
        "name": "ipython",
        "version": 3
      },
      "file_extension": ".py",
      "mimetype": "text/x-python",
      "name": "python",
      "nbconvert_exporter": "python",
      "pygments_lexer": "ipython3",
      "version": "3.7.0"
    },
    "kernelspec": {
      "display_name": "Python 3",
      "language": "python",
      "name": "python3"
    },
    "accelerator": "GPU"
  },
  "cells": [
    {
      "cell_type": "markdown",
      "metadata": {
        "id": "view-in-github",
        "colab_type": "text"
      },
      "source": [
        "<a href=\"https://colab.research.google.com/github/cic4k/IVADO_DL/blob/master/tutorial_mlp_exercise.ipynb\" target=\"_parent\"><img src=\"https://colab.research.google.com/assets/colab-badge.svg\" alt=\"Open In Colab\"/></a>"
      ]
    },
    {
      "cell_type": "markdown",
      "metadata": {
        "colab_type": "text",
        "id": "mipSoOVlavkb"
      },
      "source": [
        "# IVADO/MILA DEEP LEARNING SCHOOL\n",
        "# 4th edition (Fall 2019)\n",
        "# Tutorial : Categorical data with multilayer perceptron (MLP)\n",
        "\n",
        "## Authors: \n",
        "\n",
        "Arsène Fansi Tchango <arsene.fansi.tchango@mila.quebec>\n",
        "\n",
        "Gaétan Marceau Caron <gaetan.marceau.caron@mila.quebec>"
      ]
    },
    {
      "cell_type": "code",
      "metadata": {
        "id": "GByD5vFakF5Z",
        "colab_type": "code",
        "outputId": "7d867fe5-4d5c-4fca-e77d-e0a87e3cee74",
        "colab": {
          "base_uri": "https://localhost:8080/",
          "height": 122
        }
      },
      "source": [
        "from google.colab import drive\n",
        "drive.mount('/content/drive')"
      ],
      "execution_count": 65,
      "outputs": [
        {
          "output_type": "stream",
          "text": [
            "Go to this URL in a browser: https://accounts.google.com/o/oauth2/auth?client_id=947318989803-6bn6qk8qdgf4n4g3pfee6491hc0brc4i.apps.googleusercontent.com&redirect_uri=urn%3aietf%3awg%3aoauth%3a2.0%3aoob&response_type=code&scope=email%20https%3a%2f%2fwww.googleapis.com%2fauth%2fdocs.test%20https%3a%2f%2fwww.googleapis.com%2fauth%2fdrive%20https%3a%2f%2fwww.googleapis.com%2fauth%2fdrive.photos.readonly%20https%3a%2f%2fwww.googleapis.com%2fauth%2fpeopleapi.readonly\n",
            "\n",
            "Enter your authorization code:\n",
            "··········\n",
            "Mounted at /content/drive\n"
          ],
          "name": "stdout"
        }
      ]
    },
    {
      "cell_type": "markdown",
      "metadata": {
        "colab_type": "text",
        "id": "sLHwvggEZERd"
      },
      "source": [
        "## Preface"
      ]
    },
    {
      "cell_type": "markdown",
      "metadata": {
        "colab_type": "text",
        "id": "JKNGtQkkohiM"
      },
      "source": [
        "This tutorial introduces the practical aspects of Deep Learning through the realization of a simple end-to-end project. We will use the deep learning library <a href=\"https://pytorch.org/\"> `PyTorch`</a>, which is well-known for its ease of use."
      ]
    },
    {
      "cell_type": "markdown",
      "metadata": {
        "colab_type": "text",
        "id": "NOD70vdvvtin"
      },
      "source": [
        "# Introduction"
      ]
    },
    {
      "cell_type": "markdown",
      "metadata": {
        "id": "nq9FwFVnQihX",
        "colab_type": "text"
      },
      "source": [
        "## Loading packages and using GPUs"
      ]
    },
    {
      "cell_type": "markdown",
      "metadata": {
        "id": "reCpBfp1Qcrt",
        "colab_type": "text"
      },
      "source": [
        "Before we start, we install the necessary packages for the tutorial by using pip. To do this, execute the following cell by selecting it and using `shift+Enter`. This step may take a few minutes."
      ]
    },
    {
      "cell_type": "code",
      "metadata": {
        "colab_type": "code",
        "id": "c5AlBPjnvzNh",
        "outputId": "0a988f57-9b66-4389-efa3-4d402961739e",
        "colab": {
          "base_uri": "https://localhost:8080/",
          "height": 224
        }
      },
      "source": [
        "!pip3 install 'torch==1.1.0' 'torchvision==0.3.0' 'Pillow==4.3.0' 'matplotlib==3.0.3'"
      ],
      "execution_count": 1,
      "outputs": [
        {
          "output_type": "stream",
          "text": [
            "Requirement already satisfied: torch==1.1.0 in /usr/local/lib/python3.6/dist-packages (1.1.0)\n",
            "Requirement already satisfied: torchvision==0.3.0 in /usr/local/lib/python3.6/dist-packages (0.3.0)\n",
            "Requirement already satisfied: Pillow==4.3.0 in /usr/local/lib/python3.6/dist-packages (4.3.0)\n",
            "Requirement already satisfied: matplotlib==3.0.3 in /usr/local/lib/python3.6/dist-packages (3.0.3)\n",
            "Requirement already satisfied: numpy in /usr/local/lib/python3.6/dist-packages (from torch==1.1.0) (1.18.3)\n",
            "Requirement already satisfied: six in /usr/local/lib/python3.6/dist-packages (from torchvision==0.3.0) (1.12.0)\n",
            "Requirement already satisfied: olefile in /usr/local/lib/python3.6/dist-packages (from Pillow==4.3.0) (0.46)\n",
            "Requirement already satisfied: python-dateutil>=2.1 in /usr/local/lib/python3.6/dist-packages (from matplotlib==3.0.3) (2.8.1)\n",
            "Requirement already satisfied: cycler>=0.10 in /usr/local/lib/python3.6/dist-packages (from matplotlib==3.0.3) (0.10.0)\n",
            "Requirement already satisfied: kiwisolver>=1.0.1 in /usr/local/lib/python3.6/dist-packages (from matplotlib==3.0.3) (1.2.0)\n",
            "Requirement already satisfied: pyparsing!=2.0.4,!=2.1.2,!=2.1.6,>=2.0.1 in /usr/local/lib/python3.6/dist-packages (from matplotlib==3.0.3) (2.4.7)\n"
          ],
          "name": "stdout"
        }
      ]
    },
    {
      "cell_type": "markdown",
      "metadata": {
        "colab_type": "text",
        "id": "djF9gjzLwsDB"
      },
      "source": [
        "Now, import all the modules we will use for this tutorial by running the next cell:"
      ]
    },
    {
      "cell_type": "code",
      "metadata": {
        "colab_type": "code",
        "id": "w9LnNnxBw0wC",
        "outputId": "e2277594-92b2-43de-8440-b104f10c0d76",
        "colab": {
          "base_uri": "https://localhost:8080/",
          "height": 51
        }
      },
      "source": [
        "import torch\n",
        "import pandas as pd\n",
        "import numpy as np\n",
        "import matplotlib.pyplot as plt\n",
        "%matplotlib inline\n",
        "\n",
        "seed = 1234\n",
        "np.random.seed(seed) # Set the random seed of numpy for the data split.\n",
        "\n",
        "use_gpu = torch.cuda.is_available()\n",
        "device = torch.device(\"cuda:0\" if use_gpu else \"cpu\")\n",
        "\n",
        "\n",
        "print(\"Torch version: \", torch.__version__)\n",
        "print(\"GPU Available: {}\".format(use_gpu))"
      ],
      "execution_count": 2,
      "outputs": [
        {
          "output_type": "stream",
          "text": [
            "Torch version:  1.1.0\n",
            "GPU Available: True\n"
          ],
          "name": "stdout"
        }
      ]
    },
    {
      "cell_type": "markdown",
      "metadata": {
        "colab_type": "text",
        "id": "ZKzgFV9Favkt"
      },
      "source": [
        "## PyTorch in a nutshell"
      ]
    },
    {
      "cell_type": "markdown",
      "metadata": {
        "colab_type": "text",
        "id": "Vrus_-F0avkt"
      },
      "source": [
        "*PyTorch* is a Python library that supports a vibrant ecosystem of tools and libraries for ML in vision, NLP, and more. It provides two high-level features:\n",
        "<ul>\n",
        "<li> operations on <a href=\"https://pytorch.org/tutorials/beginner/blitz/tensor_tutorial.html#sphx-glr-beginner-blitz-tensor-tutorial-py\">tensors</a> (such as NumPy) with GPU support,</li>\n",
        "<li> operations for creating and optimizing computational graphs with an automatic differentiation system called <a href=\"https://pytorch.org/tutorials/beginner/blitz/autograd_tutorial.html#sphx-glr-beginner-blitz-autograd-tutorial-py\">Autograd</a>.</li>\n",
        "</ul>\n",
        "\n",
        "<a href=\"https://pytorch.org/docs/stable/torch.html\">PyTorch docs</a> contain the API documentation and <a href=\"https://pytorch.org/tutorials/\">many tutorials</a>.\n",
        "Also, PyTorch offers several data processing utilities. One of these utilities is the class <a href=\"http://pytorch.org/docs/master/data.html#\"> `torch.utils.data.Dataset`</a> which offers an easy to use interface to handle a data set. For more information, please refer to the following urls: \n",
        "<ul>\n",
        "<li>PyTorch data sets: <a href=\"http://pytorch.org/docs/master/data.html\"> PyTorch - datasets</a>.</li>\n",
        "<li>A tutorial for loading data: <a href=\"http://pytorch.org/tutorials/beginner/data_loading_tutorial.html\"> PyTorch - data loading tutorial</a>.</li>\n",
        "</ul>\n",
        "\n",
        "<a href=\"http://pytorch.org/docs/master/cuda.html#module-torch.cuda\">`torch.cuda`</a> is a package that provides the same functions as CPU tensors but for  CUDA tensors, which are used for GPU computing. <a href=\"http://pytorch.org/docs/master/cuda.html#torch.cuda.is_available\">`torch.cuda.is_available()`</a> returns a boolean indicating if CUDA is currently available. Finally, we recommend using a `device` variable that identifies the device on which you want to perform computations. We can assign a tensor to a device with the method `.to(device)`. By default, the tensors are CPU tensors."
      ]
    },
    {
      "cell_type": "markdown",
      "metadata": {
        "colab_type": "text",
        "id": "Qm122vNmq92L"
      },
      "source": [
        "## Ingredients for a proof of concept (POC)"
      ]
    },
    {
      "cell_type": "markdown",
      "metadata": {
        "colab_type": "text",
        "id": "nqvhR0ebavmE"
      },
      "source": [
        "To realize a ML POC, you need:\n",
        "<ul>\n",
        "<li>a task description as well as data to support it,</li>\n",
        "<li>an evaluation metric to assess the performance of a model,</li>\n",
        "<li>a model description,</li>\n",
        "<li>a cost function to be optimized,</li>\n",
        "<li>an optimizer that adjusts the parameters of the model.</li>\n",
        "</ul>"
      ]
    },
    {
      "cell_type": "markdown",
      "metadata": {
        "colab_type": "text",
        "id": "Y8_pfpu2f6AO"
      },
      "source": [
        "# How to prepare the dataset?"
      ]
    },
    {
      "cell_type": "markdown",
      "metadata": {
        "colab_type": "text",
        "id": "B5piZxYUhSzq"
      },
      "source": [
        "Our task is to predict whether or not a passenger survived the sinking of the Titanic based on passenger data only."
      ]
    },
    {
      "cell_type": "markdown",
      "metadata": {
        "colab_type": "text",
        "id": "y4GuYNDFavlU"
      },
      "source": [
        "## Titanic dataset"
      ]
    },
    {
      "cell_type": "markdown",
      "metadata": {
        "colab_type": "text",
        "id": "NiOJx2ytavlU"
      },
      "source": [
        "We can download the Titanic dataset at the following address: https://github.com/afansi/winterschool18/blob/master/titanic3.csv?raw=true.<br/>\n",
        "This dataset provides information on the fate of 1309 passengers of the first and only journey of the liner \"RMS Titanic\", summarized by economic status (class), gender, age, family information, and survival. The Kaggle platform also uses this dataset as an introduction to classical machine learning. Here, we use it to introduce more advanced concepts related to PyTorch and Deep Learning.\n",
        "\n",
        "We use the library <a href=\"https://pandas.pydata.org/\">Pandas</a> to load the dataset into memory."
      ]
    },
    {
      "cell_type": "code",
      "metadata": {
        "colab_type": "code",
        "id": "bX_RSiffavlW",
        "outputId": "170fc944-f33f-468a-f3d8-2c01174c76c8",
        "colab": {
          "base_uri": "https://localhost:8080/",
          "height": 340
        }
      },
      "source": [
        "titanic_df = pd.read_csv(\n",
        "    'https://github.com/afansi/winterschool18/blob/master/titanic3.csv?raw=true', \n",
        "    sep='\\t', \n",
        "    index_col=None, \n",
        "    na_values=['NA']\n",
        ")\n",
        "\n",
        "# a snapshot of the first 5 data points\n",
        "titanic_df.head()\n",
        "\n"
      ],
      "execution_count": 3,
      "outputs": [
        {
          "output_type": "execute_result",
          "data": {
            "text/html": [
              "<div>\n",
              "<style scoped>\n",
              "    .dataframe tbody tr th:only-of-type {\n",
              "        vertical-align: middle;\n",
              "    }\n",
              "\n",
              "    .dataframe tbody tr th {\n",
              "        vertical-align: top;\n",
              "    }\n",
              "\n",
              "    .dataframe thead th {\n",
              "        text-align: right;\n",
              "    }\n",
              "</style>\n",
              "<table border=\"1\" class=\"dataframe\">\n",
              "  <thead>\n",
              "    <tr style=\"text-align: right;\">\n",
              "      <th></th>\n",
              "      <th>pclass</th>\n",
              "      <th>survived</th>\n",
              "      <th>name</th>\n",
              "      <th>sex</th>\n",
              "      <th>age</th>\n",
              "      <th>sibsp</th>\n",
              "      <th>parch</th>\n",
              "      <th>ticket</th>\n",
              "      <th>fare</th>\n",
              "      <th>cabin</th>\n",
              "      <th>embarked</th>\n",
              "      <th>boat</th>\n",
              "      <th>body</th>\n",
              "      <th>home.dest</th>\n",
              "    </tr>\n",
              "  </thead>\n",
              "  <tbody>\n",
              "    <tr>\n",
              "      <th>0</th>\n",
              "      <td>1</td>\n",
              "      <td>1</td>\n",
              "      <td>Allen, Miss. Elisabeth Walton</td>\n",
              "      <td>female</td>\n",
              "      <td>29.0000</td>\n",
              "      <td>0</td>\n",
              "      <td>0</td>\n",
              "      <td>24160</td>\n",
              "      <td>211.3375</td>\n",
              "      <td>B5</td>\n",
              "      <td>S</td>\n",
              "      <td>2</td>\n",
              "      <td>NaN</td>\n",
              "      <td>St Louis, MO</td>\n",
              "    </tr>\n",
              "    <tr>\n",
              "      <th>1</th>\n",
              "      <td>1</td>\n",
              "      <td>1</td>\n",
              "      <td>Allison, Master. Hudson Trevor</td>\n",
              "      <td>male</td>\n",
              "      <td>0.9167</td>\n",
              "      <td>1</td>\n",
              "      <td>2</td>\n",
              "      <td>113781</td>\n",
              "      <td>151.5500</td>\n",
              "      <td>C22 C26</td>\n",
              "      <td>S</td>\n",
              "      <td>11</td>\n",
              "      <td>NaN</td>\n",
              "      <td>Montreal, PQ / Chesterville, ON</td>\n",
              "    </tr>\n",
              "    <tr>\n",
              "      <th>2</th>\n",
              "      <td>1</td>\n",
              "      <td>0</td>\n",
              "      <td>Allison, Miss. Helen Loraine</td>\n",
              "      <td>female</td>\n",
              "      <td>2.0000</td>\n",
              "      <td>1</td>\n",
              "      <td>2</td>\n",
              "      <td>113781</td>\n",
              "      <td>151.5500</td>\n",
              "      <td>C22 C26</td>\n",
              "      <td>S</td>\n",
              "      <td>NaN</td>\n",
              "      <td>NaN</td>\n",
              "      <td>Montreal, PQ / Chesterville, ON</td>\n",
              "    </tr>\n",
              "    <tr>\n",
              "      <th>3</th>\n",
              "      <td>1</td>\n",
              "      <td>0</td>\n",
              "      <td>Allison, Mr. Hudson Joshua Creighton</td>\n",
              "      <td>male</td>\n",
              "      <td>30.0000</td>\n",
              "      <td>1</td>\n",
              "      <td>2</td>\n",
              "      <td>113781</td>\n",
              "      <td>151.5500</td>\n",
              "      <td>C22 C26</td>\n",
              "      <td>S</td>\n",
              "      <td>NaN</td>\n",
              "      <td>135.0</td>\n",
              "      <td>Montreal, PQ / Chesterville, ON</td>\n",
              "    </tr>\n",
              "    <tr>\n",
              "      <th>4</th>\n",
              "      <td>1</td>\n",
              "      <td>0</td>\n",
              "      <td>Allison, Mrs. Hudson J C (Bessie Waldo Daniels)</td>\n",
              "      <td>female</td>\n",
              "      <td>25.0000</td>\n",
              "      <td>1</td>\n",
              "      <td>2</td>\n",
              "      <td>113781</td>\n",
              "      <td>151.5500</td>\n",
              "      <td>C22 C26</td>\n",
              "      <td>S</td>\n",
              "      <td>NaN</td>\n",
              "      <td>NaN</td>\n",
              "      <td>Montreal, PQ / Chesterville, ON</td>\n",
              "    </tr>\n",
              "  </tbody>\n",
              "</table>\n",
              "</div>"
            ],
            "text/plain": [
              "   pclass  survived  ...   body                        home.dest\n",
              "0       1         1  ...    NaN                     St Louis, MO\n",
              "1       1         1  ...    NaN  Montreal, PQ / Chesterville, ON\n",
              "2       1         0  ...    NaN  Montreal, PQ / Chesterville, ON\n",
              "3       1         0  ...  135.0  Montreal, PQ / Chesterville, ON\n",
              "4       1         0  ...    NaN  Montreal, PQ / Chesterville, ON\n",
              "\n",
              "[5 rows x 14 columns]"
            ]
          },
          "metadata": {
            "tags": []
          },
          "execution_count": 3
        }
      ]
    },
    {
      "cell_type": "markdown",
      "metadata": {
        "colab_type": "text",
        "id": "yj88WmCmavlf"
      },
      "source": [
        "**The meaning of the different columns (features) is as follows**:\n",
        "\n",
        "<ol>\n",
        "\n",
        "  <li> <b>pclass</b>: Passenger class (1 = first; 2 = second; 3 = third) </li>\n",
        "  <li> <b>survived</b>: Survived? (0 = no; 1 = yes) </li>\n",
        "  <li> <b>name</b>: Name </li>\n",
        "  <li> <b>sex</b>: Sex </li>\n",
        "  <li> <b>age</b>: Age </li>\n",
        "  <li> <b>sibsp</b>: Number of brothers, sisters, or spouses onboard </li>\n",
        "  <li> <b>parch</b>: Number of parents or children onboard </li>\n",
        "  <li> <b>ticket</b>: Ticket number </li>\n",
        "  <li> <b>fare</b>: Passenger fare </li>\n",
        "  <li> <b>cabin</b>: Cabin number </li>\n",
        "  <li> <b>embarked</b>: Port of embarkation (C = Cherbourg; Q = Queenstown; S = Southampton) </li>\n",
        "  <li> <b>boat</b>: Lifeboat (if the passenger survived) </li>\n",
        "  <li> <b>body</b>: Body number (if the passenger did not survive and his body was found) </li>\n",
        "  <li> <b>home.dest</b>: the passenger's destination </li>\n",
        " </ol>\n"
      ]
    },
    {
      "cell_type": "markdown",
      "metadata": {
        "colab_type": "text",
        "id": "u2ed5fozqjce"
      },
      "source": [
        "## Data pre-processing"
      ]
    },
    {
      "cell_type": "markdown",
      "metadata": {
        "colab_type": "text",
        "id": "__vcZhPnavlg"
      },
      "source": [
        "### Feature selection\n",
        "Some features are not relevant to the task, for example:\n",
        "<ol>\n",
        "  <li> <b>name</b>: Name </li>\n",
        "  <li> <b>ticket</b>: Ticket number </li>\n",
        "  <li> <b>cabin</b>: Cabin number </li>\n",
        "  <li> <b>home.dest</b>: Passenger's destination </li>\n",
        " </ol>\n",
        " \n",
        "Other features give away the label to be predicted and including them would be cheating:\n",
        "<ol>\n",
        "  <li> <b>boat</b>: Lifeboat (if the passenger survived) </li>\n",
        "  <li> <b>body</b>: Body number (if the passenger did not survive and his body was found) </li>\n",
        " </ol>"
      ]
    },
    {
      "cell_type": "code",
      "metadata": {
        "colab_type": "code",
        "id": "JJ0--SDpavlg",
        "outputId": "f3362103-0ec9-4312-f611-cda715b37f8d",
        "colab": {
          "base_uri": "https://localhost:8080/",
          "height": 204
        }
      },
      "source": [
        "titanic_preprocess_df = pd.read_csv(\n",
        "    'https://github.com/afansi/winterschool18/blob/master/titanic_prepocess.csv?raw=true', \n",
        "    sep=',', \n",
        "    index_col=None\n",
        ")\n",
        "\n",
        "titanic_preprocess_df.head()"
      ],
      "execution_count": 5,
      "outputs": [
        {
          "output_type": "execute_result",
          "data": {
            "text/html": [
              "<div>\n",
              "<style scoped>\n",
              "    .dataframe tbody tr th:only-of-type {\n",
              "        vertical-align: middle;\n",
              "    }\n",
              "\n",
              "    .dataframe tbody tr th {\n",
              "        vertical-align: top;\n",
              "    }\n",
              "\n",
              "    .dataframe thead th {\n",
              "        text-align: right;\n",
              "    }\n",
              "</style>\n",
              "<table border=\"1\" class=\"dataframe\">\n",
              "  <thead>\n",
              "    <tr style=\"text-align: right;\">\n",
              "      <th></th>\n",
              "      <th>survived</th>\n",
              "      <th>pclass_1</th>\n",
              "      <th>pclass_2</th>\n",
              "      <th>pclass_3</th>\n",
              "      <th>sex_female</th>\n",
              "      <th>sex_male</th>\n",
              "      <th>age</th>\n",
              "      <th>sibsp</th>\n",
              "      <th>parch</th>\n",
              "      <th>fare</th>\n",
              "      <th>embarked_C</th>\n",
              "      <th>embarked_Q</th>\n",
              "      <th>embarked_S</th>\n",
              "    </tr>\n",
              "  </thead>\n",
              "  <tbody>\n",
              "    <tr>\n",
              "      <th>0</th>\n",
              "      <td>1</td>\n",
              "      <td>1</td>\n",
              "      <td>0</td>\n",
              "      <td>0</td>\n",
              "      <td>1</td>\n",
              "      <td>0</td>\n",
              "      <td>29.0000</td>\n",
              "      <td>0</td>\n",
              "      <td>0</td>\n",
              "      <td>211.3375</td>\n",
              "      <td>0</td>\n",
              "      <td>0</td>\n",
              "      <td>1</td>\n",
              "    </tr>\n",
              "    <tr>\n",
              "      <th>1</th>\n",
              "      <td>1</td>\n",
              "      <td>1</td>\n",
              "      <td>0</td>\n",
              "      <td>0</td>\n",
              "      <td>0</td>\n",
              "      <td>1</td>\n",
              "      <td>0.9167</td>\n",
              "      <td>1</td>\n",
              "      <td>2</td>\n",
              "      <td>151.5500</td>\n",
              "      <td>0</td>\n",
              "      <td>0</td>\n",
              "      <td>1</td>\n",
              "    </tr>\n",
              "    <tr>\n",
              "      <th>2</th>\n",
              "      <td>0</td>\n",
              "      <td>1</td>\n",
              "      <td>0</td>\n",
              "      <td>0</td>\n",
              "      <td>1</td>\n",
              "      <td>0</td>\n",
              "      <td>2.0000</td>\n",
              "      <td>1</td>\n",
              "      <td>2</td>\n",
              "      <td>151.5500</td>\n",
              "      <td>0</td>\n",
              "      <td>0</td>\n",
              "      <td>1</td>\n",
              "    </tr>\n",
              "    <tr>\n",
              "      <th>3</th>\n",
              "      <td>0</td>\n",
              "      <td>1</td>\n",
              "      <td>0</td>\n",
              "      <td>0</td>\n",
              "      <td>0</td>\n",
              "      <td>1</td>\n",
              "      <td>30.0000</td>\n",
              "      <td>1</td>\n",
              "      <td>2</td>\n",
              "      <td>151.5500</td>\n",
              "      <td>0</td>\n",
              "      <td>0</td>\n",
              "      <td>1</td>\n",
              "    </tr>\n",
              "    <tr>\n",
              "      <th>4</th>\n",
              "      <td>0</td>\n",
              "      <td>1</td>\n",
              "      <td>0</td>\n",
              "      <td>0</td>\n",
              "      <td>1</td>\n",
              "      <td>0</td>\n",
              "      <td>25.0000</td>\n",
              "      <td>1</td>\n",
              "      <td>2</td>\n",
              "      <td>151.5500</td>\n",
              "      <td>0</td>\n",
              "      <td>0</td>\n",
              "      <td>1</td>\n",
              "    </tr>\n",
              "  </tbody>\n",
              "</table>\n",
              "</div>"
            ],
            "text/plain": [
              "   survived  pclass_1  pclass_2  ...  embarked_C  embarked_Q  embarked_S\n",
              "0         1         1         0  ...           0           0           1\n",
              "1         1         1         0  ...           0           0           1\n",
              "2         0         1         0  ...           0           0           1\n",
              "3         0         1         0  ...           0           0           1\n",
              "4         0         1         0  ...           0           0           1\n",
              "\n",
              "[5 rows x 13 columns]"
            ]
          },
          "metadata": {
            "tags": []
          },
          "execution_count": 5
        }
      ]
    },
    {
      "cell_type": "markdown",
      "metadata": {
        "id": "4MckYm0M_xhR",
        "colab_type": "text"
      },
      "source": [
        " ### Feature encoding\n",
        " \n",
        "Some features are **categorical variables**, which means that they can take a finite number of values.\n",
        " <ol>\n",
        "  <li> <b>pclass</b>: Passenger Class </li>\n",
        "  <li> <b>sex</b>: Sex </li>\n",
        "  <li> <b>embarked</b>: Port of embarkation </li>\n",
        " </ol>\n",
        "\n",
        "To process categorical variables, we need to encode them in a way that does not imply an arbitrary order such as using natural numbers (e.g., 1, 2, 3). <a href=\"http://scikit-learn.org/stable/modules/generated/sklearn.preprocessing.OneHotEncoder.html\">One-hot encoding</a> is a way to achieve it. We can download the pre-processed dataset at the following address: https://github.com/afansi/winterschool18/blob/master/titanic_prepocess.csv?raw=true.\n",
        "<br>The meaning of the encoded variables is as follows:\n",
        "\n",
        "<ol>\n",
        "  <li> <b>survived</b>: Survived? (0 = no; 1 = yes) </li>\n",
        "  <li> <b>pclass_1</b>: (1 if passenger in first class; 0 if not) </li>\n",
        "  <li> <b>pclass_2</b>: (1 if passenger in second class; 0 if not) </li>\n",
        "  <li> <b>pclass_3</b>: (1 if passenger in third class; 0 if not) </li>\n",
        "  <li> <b>sex_female</b>: (1 if passenger is female; 0 if not) </li>\n",
        "  <li> <b>sex_male</b>: (1 if passenger is male; 0 if not) </li>\n",
        "  <li> <b>age</b>: Age </li>\n",
        "  <li> <b>sibsp</b>: Number of brothers, sisters, or spouses onboard </li>\n",
        "  <li> <b>parch</b>: Number of parents or children onboard </li>\n",
        "  <li> <b>fare</b>: Passenger fare </li>\n",
        "  <li> <b>embarked_C</b>: (1 if Port of embarkation = Cherbourg (C); 0 otherwise) </li> \n",
        "  <li> <b>embarked_Q</b>: (1 if Port of embarkation = Queenstown (Q); 0 otherwise) </li> \n",
        "  <li> <b>embarked_S</b>: (1 if Port of embarkation = Southampton (S); 0 otherwise)</li> \n",
        " </ol>"
      ]
    },
    {
      "cell_type": "markdown",
      "metadata": {
        "colab_type": "text",
        "id": "QJcs6PUTavlm"
      },
      "source": [
        "## Train / validation / test split"
      ]
    },
    {
      "cell_type": "markdown",
      "metadata": {
        "colab_type": "text",
        "id": "Bjbgvffmavlo"
      },
      "source": [
        "At this point, we need to divide the dataset into three subsets:\n",
        "\n",
        "<ol>\n",
        "<li> <b> Train</b> (usually 60% of the dataset): used to train the classification model. </li>   \n",
        "<li> <b> Validation</b> (generally 20% of the dataset): used to evaluate hyper-parameters on held-out data. </li>   \n",
        "<li> <b> Test</b> (usually 20% of the dataset): used to evaluate the generalization performance of the chosen model on held-out data. </li>\n",
        "</ol>\n",
        "\n",
        "We use the <a href=\"https://docs.scipy.org/doc/numpy-1.15.1/reference/generated/numpy.split.html\">numpy.split function</a> to separate our dataset into subsets."
      ]
    },
    {
      "cell_type": "code",
      "metadata": {
        "colab_type": "code",
        "id": "GBmL8VBOavlo",
        "colab": {
          "base_uri": "https://localhost:8080/",
          "height": 68
        },
        "outputId": "2d8f83c7-d638-42f4-8004-282ec23a1892"
      },
      "source": [
        "train, validate, test = np.split(\n",
        "    titanic_preprocess_df.sample(frac=1, random_state=seed), \n",
        "    [int(.6*len(titanic_preprocess_df)), int(.8*len(titanic_preprocess_df))])\n",
        "\"\"\"\n",
        "https://docs.scipy.org/doc/numpy/reference/generated/numpy.split.html\n",
        "np.split(ndarray, indices_or_sections) <- ndarray to split in [] indices\n",
        "titanic_preprocess_df.sample() <- frac*100 random sample of the dataset with a \n",
        " random state equal to seed\n",
        "\"\"\"\n",
        "\n",
        "# Remove the label column from X and create a label vectors.\n",
        "X_train = train.drop(['survived'], axis=1).values\n",
        "y_train = train['survived'].values\n",
        "\n",
        "X_val = validate.drop(['survived'], axis=1).values\n",
        "y_val = validate['survived'].values\n",
        "\n",
        "X_test = test.drop(['survived'], axis=1).values\n",
        "y_test = test['survived'].values\n",
        "\n",
        "print(\"Number of training samples:\", len(y_train))\n",
        "print(\"Number of validating samples:\", len(y_val))\n",
        "print(\"Number of testing samples:\", len(y_test))\n"
      ],
      "execution_count": 24,
      "outputs": [
        {
          "output_type": "stream",
          "text": [
            "Number of training samples: 625\n",
            "Number of validating samples: 209\n",
            "Number of testing samples: 209\n"
          ],
          "name": "stdout"
        }
      ]
    },
    {
      "cell_type": "markdown",
      "metadata": {
        "colab_type": "text",
        "id": "wv74TbIWavlr"
      },
      "source": [
        "## Datasets in PyTorch"
      ]
    },
    {
      "cell_type": "markdown",
      "metadata": {
        "colab_type": "text",
        "id": "9_LJtG-Xavlt"
      },
      "source": [
        "We will use the subclass <b><a href=\"http://pytorch.org/docs/master/data.html#\"> `torch.utils.data.TensorDataset`</a> </b> to manipulate together the features and targets of a dataset."
      ]
    },
    {
      "cell_type": "code",
      "metadata": {
        "colab_type": "code",
        "id": "1JtT4tV7avlt",
        "colab": {
          "base_uri": "https://localhost:8080/",
          "height": 51
        },
        "outputId": "4257b720-96c0-4773-8d9e-2eefa841c518"
      },
      "source": [
        "from torch.utils.data import TensorDataset\n",
        "\n",
        "train_dataset = TensorDataset(torch.from_numpy(X_train).float(),\n",
        "                              torch.from_numpy(y_train).long())\n",
        "\n",
        "val_dataset = TensorDataset(torch.from_numpy(X_val).float(),\n",
        "                              torch.from_numpy(y_val).long())\n",
        "\n",
        "test_dataset = TensorDataset(torch.from_numpy(X_test).float(),\n",
        "                              torch.from_numpy(y_test).long())\n"
      ],
      "execution_count": 27,
      "outputs": [
        {
          "output_type": "stream",
          "text": [
            "(tensor([ 1.0000,  0.0000,  0.0000,  1.0000,  0.0000, 45.0000,  1.0000,  0.0000,\n",
            "        52.5542,  0.0000,  0.0000,  1.0000]), tensor(1))\n"
          ],
          "name": "stdout"
        }
      ]
    },
    {
      "cell_type": "code",
      "metadata": {
        "id": "85mG_k_Rjxwv",
        "colab_type": "code",
        "colab": {
          "base_uri": "https://localhost:8080/",
          "height": 68
        },
        "outputId": "0366b22c-9d4f-4fa5-ce40-5435064bc3de"
      },
      "source": [
        "print(train_dataset[0])\n",
        "print(X_train[0])\n",
        "print(y_train[0])"
      ],
      "execution_count": 29,
      "outputs": [
        {
          "output_type": "stream",
          "text": [
            "(tensor([ 0.,  1.,  0.,  1.,  0.,  2.,  1.,  1., 26.,  0.,  0.,  1.]), tensor(1))\n",
            "[ 0.  1.  0.  1.  0.  2.  1.  1. 26.  0.  0.  1.]\n",
            "1\n"
          ],
          "name": "stdout"
        }
      ]
    },
    {
      "cell_type": "markdown",
      "metadata": {
        "colab_type": "text",
        "id": "obEPHnlTavkc"
      },
      "source": [
        "# How to define the learning algorithm?"
      ]
    },
    {
      "cell_type": "markdown",
      "metadata": {
        "colab_type": "text",
        "id": "qhN5GL6Gavks"
      },
      "source": [
        "A multilayer perceptron (MLP) is a simple computational graph composed of \"hidden layers,\" which are defined by two modules: a *linear transformation* followed by a *non-linearity*. The result of a hidden layer is a vector called *a distributed representation* where each component is associated with a hidden unit.\n",
        "\n",
        "To train this model, we need to define:\n",
        "<ul>\n",
        "<li>the network architecture by choosing the non-linear function and the number of hidden units per layer, </li>\n",
        "<li>the cost function and optimizer. </li>\n",
        "</ul>\n",
        "\n",
        "To solve our task, we will use a MLP with the following properties:\n",
        " <ul>\n",
        " <li> the input dimension of the model is 12,</li>\n",
        " <li> the output dimension of the model is 2,</li>\n",
        " <li> the first dimension of the output is the probability of death and the second dimension is the probability of survival,</li>\n",
        "  <li> the number of hidden layers is 3, </li>\n",
        " <li> the dimensions of the hidden layers are 20, 40, 20 respectively, </li>\n",
        " <li> the activation function is a ReLu for all hidden layers. </li>\n",
        " </ul>"
      ]
    },
    {
      "cell_type": "markdown",
      "metadata": {
        "colab_type": "text",
        "id": "701t0e-ravkr"
      },
      "source": [
        "## How to define a model in PyTorch?"
      ]
    },
    {
      "cell_type": "markdown",
      "metadata": {
        "colab_type": "text",
        "id": "m4F5cyijavkv"
      },
      "source": [
        "The <a href=\"https://pytorch.org/docs/stable/nn.html\">PyTorch NN package</a> contains many useful classes for creating computation graphs.\n",
        "<ul>\n",
        "<li> The class <a href=\"http://pytorch.org/docs/master/nn.html#module\">torch.nn.Module</a>: \n",
        "any new module must inherit from this class or its descendants (subclasses).\n",
        "</li>   \n",
        "<li> The `forward` method:  any class defining a module must implement the `forward(...)` method, which defines the transformation of inputs to outputs.</li>  \n",
        "<li> The class <a href=\"http://pytorch.org/docs/master/nn.html#torch.nn.Linear\">`torch.nn.Linear(in_features, out_features)`</a>: this class implements a linear transformation. By default, it takes two parameters: \n",
        "    <ul>\n",
        "    <li>`in_features`: the size of the data at the input of the module. </li>\n",
        "    <li>`out_features`: the size of the data at the output of the module. </li>\n",
        "    </ul>\n",
        "</li>\n",
        "<li> The module <a href=\"http://pytorch.org/docs/master/nn.html#torch-nn-functional\">`torch.nn.functional`</a>: \n",
        "it defines a set of functions that can be applied directly to any tensor. As examples, we have:\n",
        "    <ul>\n",
        "    <li> non-linear functions: sigmoid(...), tanh(...), relu(...), etc...</li> \n",
        "    <li> cost functions: mse_loss(...), nll(...., cross_entropy(...), etc ... </li> \n",
        "    <li> regularization functions: droupout(...), etc ... </li> \n",
        "    <li> ...</li> \n",
        "    </ul>\n",
        "</li>\n",
        "</ul>"
      ]
    },
    {
      "cell_type": "markdown",
      "metadata": {
        "id": "Tscha6S-KIBB",
        "colab_type": "text"
      },
      "source": [
        "You need to complete the following methods:\n",
        "<ul>\n",
        "<li>The `__init__` method that defines the layers. </li>\n",
        "<li>The `forward(input)` method that returns the `output`. </li>\n",
        "</ul>"
      ]
    },
    {
      "cell_type": "code",
      "metadata": {
        "colab_type": "code",
        "id": "8NyQGwC-avkw",
        "colab": {}
      },
      "source": [
        "import torch\n",
        "import torch.nn as nn\n",
        "import torch.nn.functional as F\n",
        "seed = 1234\n",
        "torch.manual_seed(seed)\n",
        "torch.cuda.manual_seed(seed)"
      ],
      "execution_count": 0,
      "outputs": []
    },
    {
      "cell_type": "code",
      "metadata": {
        "colab_type": "code",
        "id": "xR5eBfIbavk0",
        "colab": {}
      },
      "source": [
        "class NeuralNet(nn.Module):\n",
        "    def __init__(self):\n",
        "        super(NeuralNet, self).__init__()\n",
        "        self.fc1 = nn.Linear(12, 20) # Fully connected layer 1 : 12x20\n",
        "        self.fc2 = nn.Linear(20, 40) # Fully connected layer 2 : 20x40 \n",
        "        self.fc3 = nn.Linear(40, 20) # Fully connected layer 3 : 40x20\n",
        "        self.fc4 = nn.Linear(20, 2) # Fully connected layer 4 : 20x2\n",
        "        \n",
        "\n",
        "    def forward(self, x):\n",
        "        x = F.relu(self.fc1(x))\n",
        "        x = F.relu(self.fc2(x))\n",
        "        x = F.relu(self.fc3(x))\n",
        "        out = self.fc4(x)\n",
        "        return out"
      ],
      "execution_count": 0,
      "outputs": []
    },
    {
      "cell_type": "markdown",
      "metadata": {
        "colab_type": "text",
        "id": "OvLnHRZ5avk2"
      },
      "source": [
        "## Making predictions with a neural network"
      ]
    },
    {
      "cell_type": "markdown",
      "metadata": {
        "colab_type": "text",
        "id": "uEXgJMDDavk3"
      },
      "source": [
        "Now, we are ready to test our neural network on randomly selected data.\n",
        "\n",
        "In PyTorch, a model has two different modes:\n",
        "    <ul>\n",
        "    <li> <b>train</b>: used during training, </li>\n",
        "    <li> <b>eval</b>: used during inference for model evaluation. </li>\n",
        "    </ul>\n",
        "The distinction is important since some modules behave differently according to this mode.\n",
        "We will use the <b>eval</b> mode in this section."
      ]
    },
    {
      "cell_type": "code",
      "metadata": {
        "colab_type": "code",
        "id": "gzcABMezavk6",
        "outputId": "2a4c9152-a223-48d4-864b-888df61733c9",
        "colab": {
          "base_uri": "https://localhost:8080/",
          "height": 187
        }
      },
      "source": [
        "# Model definition\n",
        "neural_net = NeuralNet()\n",
        "neural_net = neural_net.to(device)\n",
        "\n",
        "# Eval mode activation\n",
        "neural_net = neural_net.eval()\n",
        "\n",
        "# Select the first 5 data points\n",
        "data, target = val_dataset[0:5]\n",
        "data = data.to(device)\n",
        "target = target.to(device)\n",
        "\n",
        "# Forward propagation of the data through the model\n",
        "output = neural_net(data)   # equivalent to neural_net.forward(data)\n",
        "\n",
        "# Convert the logits into probabilities with softmax function\n",
        "output_proba = F.softmax(output, dim=1) # dim=1 -> for each sample\n",
        "\n",
        "# Printing the direct outputs\n",
        "print(output)\n",
        "# Printing the probability\n",
        "print(output_proba)"
      ],
      "execution_count": 55,
      "outputs": [
        {
          "output_type": "stream",
          "text": [
            "tensor([[-0.0991,  0.1567],\n",
            "        [-0.0273,  0.1651],\n",
            "        [-0.0041,  0.1696],\n",
            "        [-0.0114,  0.1881],\n",
            "        [-0.0435,  0.2095]], device='cuda:0', grad_fn=<AddmmBackward>)\n",
            "tensor([[0.4364, 0.5636],\n",
            "        [0.4520, 0.5480],\n",
            "        [0.4567, 0.5433],\n",
            "        [0.4503, 0.5497],\n",
            "        [0.4371, 0.5629]], device='cuda:0', grad_fn=<SoftmaxBackward>)\n"
          ],
          "name": "stdout"
        }
      ]
    },
    {
      "cell_type": "markdown",
      "metadata": {
        "colab_type": "text",
        "id": "fVep0BElavlS"
      },
      "source": [
        "The rows define the output of the network, in terms of probabilities over two classes: <b>deceased</b> (first column) or <b>survived</b> (second column), for each of the five input data points. Let us take the label with maximum probability as the predicted label and compare it to the correct label."
      ]
    },
    {
      "cell_type": "code",
      "metadata": {
        "colab_type": "code",
        "id": "_jV4No36qjdU",
        "outputId": "404ac617-3111-401d-a28f-a3737be36cd1",
        "colab": {
          "base_uri": "https://localhost:8080/",
          "height": 119
        }
      },
      "source": [
        "# Printing predictions (class with the highest probability)\n",
        "_, prediction = torch.max(output_proba, dim=1)\n",
        "\n",
        "print('Model prediction')\n",
        "print(_)\n",
        "print(prediction)\n",
        "\n",
        "# Printing the real labels\n",
        "print(\"Actual data\")\n",
        "print(target)"
      ],
      "execution_count": 56,
      "outputs": [
        {
          "output_type": "stream",
          "text": [
            "Model prediction\n",
            "tensor([0.5636, 0.5480, 0.5433, 0.5497, 0.5629], device='cuda:0',\n",
            "       grad_fn=<MaxBackward0>)\n",
            "tensor([1, 1, 1, 1, 1], device='cuda:0')\n",
            "Actual data\n",
            "tensor([0, 0, 0, 0, 0], device='cuda:0')\n"
          ],
          "name": "stdout"
        }
      ]
    },
    {
      "cell_type": "markdown",
      "metadata": {
        "colab_type": "text",
        "id": "SEIIjqOuqjdc"
      },
      "source": [
        "**Questions**\n",
        "\n",
        "1.   What would be a good way to measure the model performances?\n",
        "2.   How does our model perform?\n",
        "3.   Considering that the model is not trained on the dataset, do you see any problem with your selected measure?\n",
        "\n"
      ]
    },
    {
      "cell_type": "markdown",
      "metadata": {
        "id": "iTTlBikYwb-w",
        "colab_type": "text"
      },
      "source": [
        "... # To complete.\n"
      ]
    },
    {
      "cell_type": "markdown",
      "metadata": {
        "colab_type": "text",
        "id": "0uySA2TCavmD"
      },
      "source": [
        "## Define the cost function and optimizer"
      ]
    },
    {
      "cell_type": "markdown",
      "metadata": {
        "colab_type": "text",
        "id": "EkoobCLMavmE"
      },
      "source": [
        "### Cost function"
      ]
    },
    {
      "cell_type": "markdown",
      "metadata": {
        "colab_type": "text",
        "id": "qkX7uSXQavmF"
      },
      "source": [
        "We define the cost function according to the task we want to achieve.\n",
        "\n",
        "PyTorch offers <a href=\"https://pytorch.org/docs/stable/nn.html#loss-functions\">many ready-to-use cost functions</a>.\n",
        "\n",
        "For classification problems, the usual cost function is <b>cross-entropy</b>, and this is the one we will use in this tutorial. In PyTorch, it is defined by the function <a href=\"https://pytorch.org/docs/master/nn.functional.html#cross-entropy\">`torch.nn.functional.cross_entropy`</a>.  Cross entropy allows comparing a $p$ distribution with a reference distribution $t$. It attains its minimum when $t=p$. Its formula for calculating it between the prediction and the target is: $-\\sum_j t_{ij} \\log(p_{ij})$ where $p$ is the prediction, $t$ the target, $i$ the examples and $j$ the classes of the target."
      ]
    },
    {
      "cell_type": "code",
      "metadata": {
        "colab_type": "code",
        "id": "FHnfYeS5avmF",
        "colab": {}
      },
      "source": [
        "def cost_function(prediction, target):\n",
        "    loss = F.cross_entropy(prediction, target)\n",
        "    return loss"
      ],
      "execution_count": 0,
      "outputs": []
    },
    {
      "cell_type": "markdown",
      "metadata": {
        "colab_type": "text",
        "id": "Vsx_cv9Wqjdj"
      },
      "source": [
        "### Backpropagation"
      ]
    },
    {
      "cell_type": "markdown",
      "metadata": {
        "colab_type": "text",
        "id": "0hcZaIKtavmH"
      },
      "source": [
        "In Pytorch, thanks to the automatic differentiation mechanism <a href=\"http://pytorch.org/docs/master/notes/autograd.html\">Autograd</a>, it is possible to automatically calculate the gradient of the cost function and backpropagate it through the computational graph.\n",
        "\n",
        "To do this, we only have to call the method `backward()` on the variable returned by the cost function, e.g., with\n",
        "\n",
        "`loss = cost_function(....)` <br>\n",
        "`loss.backward()`"
      ]
    },
    {
      "cell_type": "markdown",
      "metadata": {
        "colab_type": "text",
        "id": "8YNo_ymYavmH"
      },
      "source": [
        "### Optimization"
      ]
    },
    {
      "cell_type": "markdown",
      "metadata": {
        "colab_type": "text",
        "id": "Y4AlX9TwavmH"
      },
      "source": [
        "PyTorch provides a <a href=\"http://pytorch.org/docs/master/optim.html#algorithms\">set of optimization methods (`torch.optim`)</a> commonly used by the deep learning community. These methods include the following: \n",
        "<ul>\n",
        "<li><b>SGD</b> (Stochastic Gradient Descent) <a href=\"http://pytorch.org/docs/master/optim.html#torch.optim.SGD\">`torch.optim.SGD(net.parameters(), lr=learning_rate)`</a></li>\n",
        "<li><b>Adam</b> (Adaptive Moment Estimation): a variant of the gradient descent method in which the learning rate is adjusted for each parameter. This adjustment is based on the estimation of the first and second moments of the gradients. This optimizer has demonstrated excellent performance compared to SGD on many benchmarks. </li>\n",
        "</ul>"
      ]
    },
    {
      "cell_type": "markdown",
      "metadata": {
        "colab_type": "text",
        "id": "Uam-a0_0qjdl"
      },
      "source": [
        "To be able to use an optimizer in PyTorch, we must instantiate it by passing the following elements:\n",
        "<ul>\n",
        "<li><b>The parameters of the model</b>: these are obtained using the method <b>parameters()</b> on the instantiated model. </li>\n",
        "<li><b>The learning rate (lr)</b>: this is the learning rate to be used to update parameters during the optimization process. </li>\n",
        "<li>There may be other parameters specific to the chosen optimizer.</li>\n",
        "</ul>\n"
      ]
    },
    {
      "cell_type": "markdown",
      "metadata": {
        "colab_type": "text",
        "id": "jt6_Qr6ravmI"
      },
      "source": [
        "PyTorch offers a simplified interface to interact with any optimizer:\n",
        "<ul>\n",
        "<li><b>zero_grad()</b>: Allows to reinitialize the gradients to zero at the beginning of an optimization step.</li>\n",
        "<li><b>step()</b>: Allows to perform an optimization step after a gradient backpropagation step.</li>\n",
        "</ul>"
      ]
    },
    {
      "cell_type": "markdown",
      "metadata": {
        "colab_type": "text",
        "id": "fZ-lKExqavmI"
      },
      "source": [
        "We will use Adam with a lr of 0.001."
      ]
    },
    {
      "cell_type": "code",
      "metadata": {
        "colab_type": "code",
        "id": "WDMOziJTavmI",
        "colab": {}
      },
      "source": [
        "import torch.optim as optim\n",
        "\n",
        "lr = 0.001\n",
        "optimizer = optim.Adam(neural_net.parameters(), lr)\n"
      ],
      "execution_count": 0,
      "outputs": []
    },
    {
      "cell_type": "markdown",
      "metadata": {
        "colab_type": "text",
        "id": "OnFOAfdGqjdr"
      },
      "source": [
        "# How to train a model?\n",
        "First, we need some definitions:\n",
        "<ol>\n",
        "<li>\n",
        "<b>Epoch</b>: a complete pass over the entire training dataset.\n",
        "</li>\n",
        "<li>\n",
        "<b>Iteration</b>: an update of the model parameters. Many iterations can occur before the end of an epoch.\n",
        "</li>\n",
        "<li>\n",
        "<b>Mini-batch</b>: A subset of training data used to estimate the average of gradients. In other words, at each iteration, a mini-batch is used. \n",
        "</li>\n",
        "</ol>"
      ]
    },
    {
      "cell_type": "markdown",
      "metadata": {
        "colab_type": "text",
        "id": "LLXjNiDTavmK"
      },
      "source": [
        "## Creating the mini-batches\n",
        "PyTorch offers a utility called <b><a href=\"http://pytorch.org/docs/master/data.html\"> torch.utils.data.DataLoader </a></b> to load any dataset and automatically split it into mini-batches. During training, the data presented to the network should appear in a different order from one epoch to another. We will prepare the `DataLoader` for our three datasets (training, validation, and test)."
      ]
    },
    {
      "cell_type": "code",
      "metadata": {
        "colab_type": "code",
        "id": "RGoQZSdqavmM",
        "colab": {}
      },
      "source": [
        "train_batch_size = 32  # number of data in a training batch.\n",
        "eval_batch_size = 32   # number of data in an batch.\n",
        "\n",
        "\n",
        "train_loader = torch.utils.data.DataLoader(train_dataset, batch_size=train_batch_size, shuffle=True)\n",
        "\n",
        "val_loader   = torch.utils.data.DataLoader(val_dataset, batch_size=eval_batch_size, shuffle=False)\n",
        "test_loader  = torch.utils.data.DataLoader(test_dataset, batch_size=eval_batch_size, shuffle=False)\n"
      ],
      "execution_count": 0,
      "outputs": []
    },
    {
      "cell_type": "markdown",
      "metadata": {
        "colab_type": "text",
        "id": "Ia3ai-GvavmP"
      },
      "source": [
        "## Simple training loop"
      ]
    },
    {
      "cell_type": "markdown",
      "metadata": {
        "colab_type": "text",
        "id": "v9wNZrTnavmQ"
      },
      "source": [
        "Here we define our training procedure for an epoch."
      ]
    },
    {
      "cell_type": "code",
      "metadata": {
        "colab_type": "code",
        "id": "ZyK9xCsZavmR",
        "colab": {}
      },
      "source": [
        "def train(epoch, model, train_loader, optimizer, device):\n",
        "    \n",
        "    # activate the training mode\n",
        "    model.train()\n",
        "    \n",
        "    torch.set_grad_enabled(True)\n",
        "    \n",
        "    total_loss = 0\n",
        "    correct = 0\n",
        "    \n",
        "    # iteration over the mini-batches\n",
        "    for batch_idx, (data, target) in enumerate(train_loader):\n",
        "        \n",
        "        # transfer the data on the chosen device\n",
        "        data, target = data.to(device), target.to(device)\n",
        "        \n",
        "        # reinitialize the gradients to zero\n",
        "        optimizer.zero_grad()\n",
        "        \n",
        "        # forward propagation on the data\n",
        "        prediction = model(data)\n",
        "        \n",
        "        # compute the cost function w.r.t. the targets\n",
        "        loss = cost_function(prediction, target)\n",
        "        \n",
        "        # execute the backpropagation\n",
        "        loss.backward()\n",
        "        \n",
        "        # execute an optimization step\n",
        "        optimizer.step()\n",
        "        \n",
        "        # accumulate the loss\n",
        "        total_loss += loss.item()*len(data)\n",
        "        \n",
        "        # compute the number of correct predictions\n",
        "        _, pred_classes = torch.max(prediction, dim=1)        \n",
        "        correct += pred_classes.eq(target.view_as(pred_classes)).sum().item()\n",
        "         \n",
        "        \n",
        "    # compute the average cost per epoch\n",
        "    mean_loss = total_loss/len(train_loader.dataset)\n",
        "    \n",
        "    # compute the accuracy\n",
        "    acc = correct / len(train_loader.dataset)\n",
        "        \n",
        "    print('Train Epoch: {}   Avg_Loss: {:.5f}   Acc: {}/{} ({:.3f}%)'.format(\n",
        "        epoch, mean_loss, correct, len(train_loader.dataset),\n",
        "        100. * acc))   \n",
        "    \n",
        "    # return the average loss and the accuracy\n",
        "    return mean_loss, acc"
      ],
      "execution_count": 0,
      "outputs": []
    },
    {
      "cell_type": "markdown",
      "metadata": {
        "colab_type": "text",
        "id": "PxG666rmavmU"
      },
      "source": [
        "## Evaluation procedure"
      ]
    },
    {
      "cell_type": "markdown",
      "metadata": {
        "colab_type": "text",
        "id": "vGexbWaHavmU"
      },
      "source": [
        "Here we define our model evaluation procedure.\n",
        "<br/>\n",
        "In addition to switching the model to **eval** mode, it is essential to disable the gradient calculation. \n",
        "<br/>\n",
        "To do this, PyTorch offers a set of context managers to <a href=\"https://pytorch.org/docs/0.4.0/torch.html#locally-disabling-gradient-computation\">locally disable/enable gradient calculation </a>:\n",
        "<ol>\n",
        "<li>\n",
        "`torch.no_grad()`: disable gradient calculation.\n",
        "</li>\n",
        "<li>\n",
        "`torch.enable_grad()`: enable gradient calculation.\n",
        "</li>\n",
        "<li>\n",
        "`torch.set_grad_enabled(bool)`: enable/disable gradient calculation.\n",
        "</li>\n",
        "</ol>\n",
        "\n"
      ]
    },
    {
      "cell_type": "code",
      "metadata": {
        "colab_type": "code",
        "id": "8gQj9W5LavmU",
        "colab": {}
      },
      "source": [
        "def evaluate(model, eval_loader, device):\n",
        "    \n",
        "    # activate the evaluation mode\n",
        "    model.eval()\n",
        "    \n",
        "    total_loss = 0\n",
        "    correct = 0\n",
        "    \n",
        "    with torch.no_grad():\n",
        "    \n",
        "        # iterate over the batches\n",
        "        for batch_idx, (data, target) in enumerate(eval_loader):\n",
        "\n",
        "            # transfer the data on the chosen device\n",
        "            data, target = data.to(device), target.to(device)\n",
        "\n",
        "            # forward propagation on the data\n",
        "            prediction = model(data)\n",
        "\n",
        "            # compute the cost function w.r.t. the targets\n",
        "            loss = cost_function(prediction, target)           \n",
        "\n",
        "\n",
        "            # accumulate the loss\n",
        "            total_loss += loss.item()*len(data)\n",
        "\n",
        "            # compute the number of correct predictions en sortie)\n",
        "            _, pred_classes = torch.max(prediction, dim=1) \n",
        "            correct += pred_classes.eq(target.view_as(pred_classes)).sum().item()         \n",
        "          \n",
        "    \n",
        "    # compute the average cost per epoch\n",
        "    mean_loss = total_loss/len(eval_loader.dataset)\n",
        "    \n",
        "    # compute the accuracy\n",
        "    acc = correct / len(eval_loader.dataset)\n",
        "        \n",
        "    print('Eval:  Avg_Loss: {:.5f}   Acc: {}/{} ({:.3f}%)'.format(\n",
        "        mean_loss, correct, len(eval_loader.dataset),\n",
        "        100. * acc)) \n",
        "    \n",
        "    # return the average loss and the accuracy\n",
        "    return mean_loss, acc"
      ],
      "execution_count": 0,
      "outputs": []
    },
    {
      "cell_type": "markdown",
      "metadata": {
        "colab_type": "text",
        "id": "fMUyZNxdavmW"
      },
      "source": [
        "## Checkpointing"
      ]
    },
    {
      "cell_type": "markdown",
      "metadata": {
        "colab_type": "text",
        "id": "lQLklQXAavmW"
      },
      "source": [
        "For training phases that require much time, it is recommended to save periodically the model parameters. This step is commonly referred to as <b>checkpointing</b>.\n",
        "\n",
        "PyTorch offers <a href=\"http://pytorch.org/docs/master/notes/serialization.html\">a simple mechanism</a> to perform this operation. \n",
        "\n",
        "\n",
        "\n",
        "\n"
      ]
    },
    {
      "cell_type": "markdown",
      "metadata": {
        "colab_type": "text",
        "id": "Ld-Y2gF-avmX"
      },
      "source": [
        "We implement two methods here:\n",
        "<ul>\n",
        "<li> the first one for <b> saving </b> a model,</li>\n",
        "<li> the second for <b> loading </b> a model checkpoint. </li>\n",
        "</ul>"
      ]
    },
    {
      "cell_type": "code",
      "metadata": {
        "colab_type": "code",
        "id": "dMmNpma2avmX",
        "colab": {}
      },
      "source": [
        "def save_model(epoch, model, path='./'):\n",
        "    \n",
        "    # creating the file name indexed by the epoch value\n",
        "    filename = path + 'neural_network_{}.pt'.format(epoch)\n",
        "    \n",
        "    # saving the model parameters\n",
        "    torch.save(model.state_dict(), filename)\n",
        "    \n",
        "    \n",
        "    return model\n",
        "    "
      ],
      "execution_count": 0,
      "outputs": []
    },
    {
      "cell_type": "code",
      "metadata": {
        "colab_type": "code",
        "id": "2ZptgqQRavmZ",
        "colab": {}
      },
      "source": [
        "def load_model(epoch, model, path='./'):\n",
        "    \n",
        "    # creating the file name indexed by the epoch value\n",
        "    filename = path + 'neural_network_{}.pt'.format(epoch)\n",
        "    \n",
        "    # loading the parameters of the saved model\n",
        "    model.load_state_dict(torch.load(filename))\n",
        "    \n",
        "    \n",
        "    return model"
      ],
      "execution_count": 0,
      "outputs": []
    },
    {
      "cell_type": "markdown",
      "metadata": {
        "colab_type": "text",
        "id": "ve8sOocWavma"
      },
      "source": [
        "It is also possible to save the status of the optimizer in PyTorch, which is very important when we want to resume training the model from a given backup. For more information, please consult <a href='https://discuss.pytorch.org/t/saving-and-loading-a-model-in-pytorch/2610/3'>the following URL</a>. "
      ]
    },
    {
      "cell_type": "markdown",
      "metadata": {
        "colab_type": "text",
        "id": "8lcAP8-1avma"
      },
      "source": [
        "## Putting everything together"
      ]
    },
    {
      "cell_type": "code",
      "metadata": {
        "colab_type": "code",
        "id": "keMpyePsavmb",
        "outputId": "76cdfd4c-5c77-4c37-d7a5-a60931a21e08",
        "colab": {
          "base_uri": "https://localhost:8080/",
          "height": 1000
        }
      },
      "source": [
        "# maximum number of epoch\n",
        "numEpochs = 200\n",
        "\n",
        "# Saving frequency\n",
        "checkpoint_freq = 10\n",
        "\n",
        "# Directory for data backup\n",
        "path = '/content/drive/My Drive/IVADO_DL/'\n",
        "\n",
        "# Accumulators of average costs obtained per epoch\n",
        "train_losses = []\n",
        "val_losses = []\n",
        "\n",
        "# Performance accumulators per epoch\n",
        "train_accuracies = []\n",
        "val_accuracies = []\n",
        "\n",
        "# Model definition\n",
        "neural_net = NeuralNet()\n",
        "\n",
        "# Load the model on the chosen device\n",
        "neural_net = neural_net.to(device)\n",
        "\n",
        "# Optimizer definition\n",
        "optimizer = optim.Adam(neural_net.parameters(), lr=0.001) \n",
        "# optimizer = optim.SGD(neural_net.parameters(), lr=0.001) \n",
        "\n",
        "\n",
        "# Learning loop\n",
        "for epoch in range(1, numEpochs + 1):\n",
        "    \n",
        "    # train the model with the train dataset\n",
        "    train_loss, train_acc = train(epoch, neural_net, train_loader, optimizer, device)   \n",
        "    \n",
        "    # evaluate the model with the validation dataset\n",
        "    val_loss, val_acc = evaluate(neural_net, val_loader, device)       \n",
        "    \n",
        "    # Save the costs obtained\n",
        "    train_losses.append(train_loss)    \n",
        "    val_losses.append(val_loss)\n",
        "    \n",
        "    # Save the performances\n",
        "    train_accuracies.append(train_acc)    \n",
        "    val_accuracies.append(val_acc)\n",
        "    \n",
        "    # Checkpoint\n",
        "    if epoch % checkpoint_freq ==0:\n",
        "        save_model(epoch, neural_net, path)\n",
        "\n",
        "# Save the model at the end of the training\n",
        "save_model(numEpochs, neural_net, path)\n",
        "    \n",
        "print(\"\\n\\n\\nOptimization ended.\\n\")    \n"
      ],
      "execution_count": 67,
      "outputs": [
        {
          "output_type": "stream",
          "text": [
            "Train Epoch: 1   Avg_Loss: 0.63986   Acc: 412/625 (65.920%)\n",
            "Eval:  Avg_Loss: 0.63053   Acc: 143/209 (68.421%)\n",
            "Train Epoch: 2   Avg_Loss: 0.62982   Acc: 420/625 (67.200%)\n",
            "Eval:  Avg_Loss: 0.62374   Acc: 141/209 (67.464%)\n",
            "Train Epoch: 3   Avg_Loss: 0.62401   Acc: 424/625 (67.840%)\n",
            "Eval:  Avg_Loss: 0.61636   Acc: 139/209 (66.507%)\n",
            "Train Epoch: 4   Avg_Loss: 0.62244   Acc: 419/625 (67.040%)\n",
            "Eval:  Avg_Loss: 0.61702   Acc: 140/209 (66.986%)\n",
            "Train Epoch: 5   Avg_Loss: 0.61164   Acc: 424/625 (67.840%)\n",
            "Eval:  Avg_Loss: 0.61092   Acc: 142/209 (67.943%)\n",
            "Train Epoch: 6   Avg_Loss: 0.61377   Acc: 423/625 (67.680%)\n",
            "Eval:  Avg_Loss: 0.62534   Acc: 141/209 (67.464%)\n",
            "Train Epoch: 7   Avg_Loss: 0.61308   Acc: 426/625 (68.160%)\n",
            "Eval:  Avg_Loss: 0.60691   Acc: 142/209 (67.943%)\n",
            "Train Epoch: 8   Avg_Loss: 0.61807   Acc: 420/625 (67.200%)\n",
            "Eval:  Avg_Loss: 0.63323   Acc: 140/209 (66.986%)\n",
            "Train Epoch: 9   Avg_Loss: 0.59888   Acc: 432/625 (69.120%)\n",
            "Eval:  Avg_Loss: 0.62437   Acc: 138/209 (66.029%)\n",
            "Train Epoch: 10   Avg_Loss: 0.61785   Acc: 428/625 (68.480%)\n",
            "Eval:  Avg_Loss: 0.61424   Acc: 142/209 (67.943%)\n",
            "Train Epoch: 11   Avg_Loss: 0.60476   Acc: 424/625 (67.840%)\n",
            "Eval:  Avg_Loss: 0.59720   Acc: 142/209 (67.943%)\n",
            "Train Epoch: 12   Avg_Loss: 0.59802   Acc: 431/625 (68.960%)\n",
            "Eval:  Avg_Loss: 0.59244   Acc: 142/209 (67.943%)\n",
            "Train Epoch: 13   Avg_Loss: 0.59424   Acc: 439/625 (70.240%)\n",
            "Eval:  Avg_Loss: 0.58818   Acc: 143/209 (68.421%)\n",
            "Train Epoch: 14   Avg_Loss: 0.58461   Acc: 439/625 (70.240%)\n",
            "Eval:  Avg_Loss: 0.57921   Acc: 144/209 (68.900%)\n",
            "Train Epoch: 15   Avg_Loss: 0.57694   Acc: 451/625 (72.160%)\n",
            "Eval:  Avg_Loss: 0.57516   Acc: 146/209 (69.856%)\n",
            "Train Epoch: 16   Avg_Loss: 0.57875   Acc: 454/625 (72.640%)\n",
            "Eval:  Avg_Loss: 0.56496   Acc: 147/209 (70.335%)\n",
            "Train Epoch: 17   Avg_Loss: 0.56143   Acc: 460/625 (73.600%)\n",
            "Eval:  Avg_Loss: 0.55041   Acc: 148/209 (70.813%)\n",
            "Train Epoch: 18   Avg_Loss: 0.55519   Acc: 469/625 (75.040%)\n",
            "Eval:  Avg_Loss: 0.55882   Acc: 153/209 (73.206%)\n",
            "Train Epoch: 19   Avg_Loss: 0.54106   Acc: 459/625 (73.440%)\n",
            "Eval:  Avg_Loss: 0.53122   Acc: 157/209 (75.120%)\n",
            "Train Epoch: 20   Avg_Loss: 0.52511   Acc: 482/625 (77.120%)\n",
            "Eval:  Avg_Loss: 0.52111   Acc: 155/209 (74.163%)\n",
            "Train Epoch: 21   Avg_Loss: 0.50783   Acc: 473/625 (75.680%)\n",
            "Eval:  Avg_Loss: 0.53858   Acc: 158/209 (75.598%)\n",
            "Train Epoch: 22   Avg_Loss: 0.52077   Acc: 478/625 (76.480%)\n",
            "Eval:  Avg_Loss: 0.50379   Acc: 164/209 (78.469%)\n",
            "Train Epoch: 23   Avg_Loss: 0.49878   Acc: 481/625 (76.960%)\n",
            "Eval:  Avg_Loss: 0.54768   Acc: 157/209 (75.120%)\n",
            "Train Epoch: 24   Avg_Loss: 0.50828   Acc: 485/625 (77.600%)\n",
            "Eval:  Avg_Loss: 0.49655   Acc: 160/209 (76.555%)\n",
            "Train Epoch: 25   Avg_Loss: 0.47180   Acc: 495/625 (79.200%)\n",
            "Eval:  Avg_Loss: 0.49760   Acc: 167/209 (79.904%)\n",
            "Train Epoch: 26   Avg_Loss: 0.47016   Acc: 493/625 (78.880%)\n",
            "Eval:  Avg_Loss: 0.48786   Acc: 164/209 (78.469%)\n",
            "Train Epoch: 27   Avg_Loss: 0.46341   Acc: 486/625 (77.760%)\n",
            "Eval:  Avg_Loss: 0.49655   Acc: 157/209 (75.120%)\n",
            "Train Epoch: 28   Avg_Loss: 0.48163   Acc: 481/625 (76.960%)\n",
            "Eval:  Avg_Loss: 0.50639   Acc: 162/209 (77.512%)\n",
            "Train Epoch: 29   Avg_Loss: 0.46151   Acc: 494/625 (79.040%)\n",
            "Eval:  Avg_Loss: 0.49044   Acc: 158/209 (75.598%)\n",
            "Train Epoch: 30   Avg_Loss: 0.47594   Acc: 488/625 (78.080%)\n",
            "Eval:  Avg_Loss: 0.50472   Acc: 161/209 (77.033%)\n",
            "Train Epoch: 31   Avg_Loss: 0.46191   Acc: 490/625 (78.400%)\n",
            "Eval:  Avg_Loss: 0.50220   Acc: 165/209 (78.947%)\n",
            "Train Epoch: 32   Avg_Loss: 0.45459   Acc: 494/625 (79.040%)\n",
            "Eval:  Avg_Loss: 0.48961   Acc: 162/209 (77.512%)\n",
            "Train Epoch: 33   Avg_Loss: 0.44684   Acc: 500/625 (80.000%)\n",
            "Eval:  Avg_Loss: 0.48650   Acc: 163/209 (77.990%)\n",
            "Train Epoch: 34   Avg_Loss: 0.44857   Acc: 495/625 (79.200%)\n",
            "Eval:  Avg_Loss: 0.48087   Acc: 166/209 (79.426%)\n",
            "Train Epoch: 35   Avg_Loss: 0.44333   Acc: 499/625 (79.840%)\n",
            "Eval:  Avg_Loss: 0.50035   Acc: 165/209 (78.947%)\n",
            "Train Epoch: 36   Avg_Loss: 0.45003   Acc: 500/625 (80.000%)\n",
            "Eval:  Avg_Loss: 0.48472   Acc: 164/209 (78.469%)\n",
            "Train Epoch: 37   Avg_Loss: 0.43965   Acc: 493/625 (78.880%)\n",
            "Eval:  Avg_Loss: 0.48986   Acc: 166/209 (79.426%)\n",
            "Train Epoch: 38   Avg_Loss: 0.43716   Acc: 500/625 (80.000%)\n",
            "Eval:  Avg_Loss: 0.48512   Acc: 163/209 (77.990%)\n",
            "Train Epoch: 39   Avg_Loss: 0.44266   Acc: 500/625 (80.000%)\n",
            "Eval:  Avg_Loss: 0.49452   Acc: 166/209 (79.426%)\n",
            "Train Epoch: 40   Avg_Loss: 0.43559   Acc: 501/625 (80.160%)\n",
            "Eval:  Avg_Loss: 0.47710   Acc: 166/209 (79.426%)\n",
            "Train Epoch: 41   Avg_Loss: 0.42954   Acc: 502/625 (80.320%)\n",
            "Eval:  Avg_Loss: 0.48428   Acc: 164/209 (78.469%)\n",
            "Train Epoch: 42   Avg_Loss: 0.43342   Acc: 509/625 (81.440%)\n",
            "Eval:  Avg_Loss: 0.48170   Acc: 164/209 (78.469%)\n",
            "Train Epoch: 43   Avg_Loss: 0.43150   Acc: 502/625 (80.320%)\n",
            "Eval:  Avg_Loss: 0.49092   Acc: 168/209 (80.383%)\n",
            "Train Epoch: 44   Avg_Loss: 0.43313   Acc: 503/625 (80.480%)\n",
            "Eval:  Avg_Loss: 0.47874   Acc: 165/209 (78.947%)\n",
            "Train Epoch: 45   Avg_Loss: 0.46247   Acc: 491/625 (78.560%)\n",
            "Eval:  Avg_Loss: 0.51729   Acc: 161/209 (77.033%)\n",
            "Train Epoch: 46   Avg_Loss: 0.44128   Acc: 509/625 (81.440%)\n",
            "Eval:  Avg_Loss: 0.51043   Acc: 159/209 (76.077%)\n",
            "Train Epoch: 47   Avg_Loss: 0.43741   Acc: 502/625 (80.320%)\n",
            "Eval:  Avg_Loss: 0.49275   Acc: 169/209 (80.861%)\n",
            "Train Epoch: 48   Avg_Loss: 0.44988   Acc: 504/625 (80.640%)\n",
            "Eval:  Avg_Loss: 0.49300   Acc: 167/209 (79.904%)\n",
            "Train Epoch: 49   Avg_Loss: 0.42215   Acc: 513/625 (82.080%)\n",
            "Eval:  Avg_Loss: 0.47672   Acc: 168/209 (80.383%)\n",
            "Train Epoch: 50   Avg_Loss: 0.42525   Acc: 506/625 (80.960%)\n",
            "Eval:  Avg_Loss: 0.48579   Acc: 169/209 (80.861%)\n",
            "Train Epoch: 51   Avg_Loss: 0.42325   Acc: 508/625 (81.280%)\n",
            "Eval:  Avg_Loss: 0.48481   Acc: 162/209 (77.512%)\n",
            "Train Epoch: 52   Avg_Loss: 0.42183   Acc: 504/625 (80.640%)\n",
            "Eval:  Avg_Loss: 0.47821   Acc: 168/209 (80.383%)\n",
            "Train Epoch: 53   Avg_Loss: 0.42296   Acc: 505/625 (80.800%)\n",
            "Eval:  Avg_Loss: 0.48130   Acc: 169/209 (80.861%)\n",
            "Train Epoch: 54   Avg_Loss: 0.43853   Acc: 506/625 (80.960%)\n",
            "Eval:  Avg_Loss: 0.51365   Acc: 165/209 (78.947%)\n",
            "Train Epoch: 55   Avg_Loss: 0.43408   Acc: 503/625 (80.480%)\n",
            "Eval:  Avg_Loss: 0.49688   Acc: 169/209 (80.861%)\n",
            "Train Epoch: 56   Avg_Loss: 0.42750   Acc: 511/625 (81.760%)\n",
            "Eval:  Avg_Loss: 0.48683   Acc: 167/209 (79.904%)\n",
            "Train Epoch: 57   Avg_Loss: 0.41738   Acc: 509/625 (81.440%)\n",
            "Eval:  Avg_Loss: 0.47288   Acc: 170/209 (81.340%)\n",
            "Train Epoch: 58   Avg_Loss: 0.41126   Acc: 515/625 (82.400%)\n",
            "Eval:  Avg_Loss: 0.48153   Acc: 166/209 (79.426%)\n",
            "Train Epoch: 59   Avg_Loss: 0.43658   Acc: 502/625 (80.320%)\n",
            "Eval:  Avg_Loss: 0.53520   Acc: 170/209 (81.340%)\n",
            "Train Epoch: 60   Avg_Loss: 0.46866   Acc: 507/625 (81.120%)\n",
            "Eval:  Avg_Loss: 0.49165   Acc: 166/209 (79.426%)\n",
            "Train Epoch: 61   Avg_Loss: 0.42988   Acc: 507/625 (81.120%)\n",
            "Eval:  Avg_Loss: 0.48221   Acc: 167/209 (79.904%)\n",
            "Train Epoch: 62   Avg_Loss: 0.42138   Acc: 510/625 (81.600%)\n",
            "Eval:  Avg_Loss: 0.49028   Acc: 165/209 (78.947%)\n",
            "Train Epoch: 63   Avg_Loss: 0.41083   Acc: 512/625 (81.920%)\n",
            "Eval:  Avg_Loss: 0.47647   Acc: 172/209 (82.297%)\n",
            "Train Epoch: 64   Avg_Loss: 0.40936   Acc: 512/625 (81.920%)\n",
            "Eval:  Avg_Loss: 0.47641   Acc: 170/209 (81.340%)\n",
            "Train Epoch: 65   Avg_Loss: 0.41424   Acc: 515/625 (82.400%)\n",
            "Eval:  Avg_Loss: 0.48579   Acc: 169/209 (80.861%)\n",
            "Train Epoch: 66   Avg_Loss: 0.41782   Acc: 501/625 (80.160%)\n",
            "Eval:  Avg_Loss: 0.47188   Acc: 171/209 (81.818%)\n",
            "Train Epoch: 67   Avg_Loss: 0.40727   Acc: 513/625 (82.080%)\n",
            "Eval:  Avg_Loss: 0.47693   Acc: 168/209 (80.383%)\n",
            "Train Epoch: 68   Avg_Loss: 0.40604   Acc: 509/625 (81.440%)\n",
            "Eval:  Avg_Loss: 0.47456   Acc: 170/209 (81.340%)\n",
            "Train Epoch: 69   Avg_Loss: 0.40447   Acc: 514/625 (82.240%)\n",
            "Eval:  Avg_Loss: 0.49575   Acc: 165/209 (78.947%)\n",
            "Train Epoch: 70   Avg_Loss: 0.41343   Acc: 506/625 (80.960%)\n",
            "Eval:  Avg_Loss: 0.49586   Acc: 167/209 (79.904%)\n",
            "Train Epoch: 71   Avg_Loss: 0.40742   Acc: 518/625 (82.880%)\n",
            "Eval:  Avg_Loss: 0.48331   Acc: 165/209 (78.947%)\n",
            "Train Epoch: 72   Avg_Loss: 0.40936   Acc: 509/625 (81.440%)\n",
            "Eval:  Avg_Loss: 0.48109   Acc: 166/209 (79.426%)\n",
            "Train Epoch: 73   Avg_Loss: 0.40636   Acc: 512/625 (81.920%)\n",
            "Eval:  Avg_Loss: 0.48317   Acc: 172/209 (82.297%)\n",
            "Train Epoch: 74   Avg_Loss: 0.39818   Acc: 516/625 (82.560%)\n",
            "Eval:  Avg_Loss: 0.48095   Acc: 169/209 (80.861%)\n",
            "Train Epoch: 75   Avg_Loss: 0.40309   Acc: 510/625 (81.600%)\n",
            "Eval:  Avg_Loss: 0.48391   Acc: 172/209 (82.297%)\n",
            "Train Epoch: 76   Avg_Loss: 0.40552   Acc: 507/625 (81.120%)\n",
            "Eval:  Avg_Loss: 0.48004   Acc: 167/209 (79.904%)\n",
            "Train Epoch: 77   Avg_Loss: 0.41571   Acc: 511/625 (81.760%)\n",
            "Eval:  Avg_Loss: 0.48292   Acc: 171/209 (81.818%)\n",
            "Train Epoch: 78   Avg_Loss: 0.40631   Acc: 513/625 (82.080%)\n",
            "Eval:  Avg_Loss: 0.48418   Acc: 168/209 (80.383%)\n",
            "Train Epoch: 79   Avg_Loss: 0.39736   Acc: 515/625 (82.400%)\n",
            "Eval:  Avg_Loss: 0.48038   Acc: 168/209 (80.383%)\n",
            "Train Epoch: 80   Avg_Loss: 0.40723   Acc: 507/625 (81.120%)\n",
            "Eval:  Avg_Loss: 0.48872   Acc: 163/209 (77.990%)\n",
            "Train Epoch: 81   Avg_Loss: 0.40752   Acc: 513/625 (82.080%)\n",
            "Eval:  Avg_Loss: 0.49284   Acc: 171/209 (81.818%)\n",
            "Train Epoch: 82   Avg_Loss: 0.40013   Acc: 511/625 (81.760%)\n",
            "Eval:  Avg_Loss: 0.48123   Acc: 168/209 (80.383%)\n",
            "Train Epoch: 83   Avg_Loss: 0.39836   Acc: 519/625 (83.040%)\n",
            "Eval:  Avg_Loss: 0.49069   Acc: 168/209 (80.383%)\n",
            "Train Epoch: 84   Avg_Loss: 0.40224   Acc: 514/625 (82.240%)\n",
            "Eval:  Avg_Loss: 0.48171   Acc: 162/209 (77.512%)\n",
            "Train Epoch: 85   Avg_Loss: 0.40338   Acc: 515/625 (82.400%)\n",
            "Eval:  Avg_Loss: 0.49391   Acc: 166/209 (79.426%)\n",
            "Train Epoch: 86   Avg_Loss: 0.39867   Acc: 515/625 (82.400%)\n",
            "Eval:  Avg_Loss: 0.49151   Acc: 166/209 (79.426%)\n",
            "Train Epoch: 87   Avg_Loss: 0.40679   Acc: 515/625 (82.400%)\n",
            "Eval:  Avg_Loss: 0.48455   Acc: 171/209 (81.818%)\n",
            "Train Epoch: 88   Avg_Loss: 0.40189   Acc: 512/625 (81.920%)\n",
            "Eval:  Avg_Loss: 0.51799   Acc: 165/209 (78.947%)\n",
            "Train Epoch: 89   Avg_Loss: 0.44737   Acc: 499/625 (79.840%)\n",
            "Eval:  Avg_Loss: 0.56724   Acc: 159/209 (76.077%)\n",
            "Train Epoch: 90   Avg_Loss: 0.43435   Acc: 505/625 (80.800%)\n",
            "Eval:  Avg_Loss: 0.51031   Acc: 168/209 (80.383%)\n",
            "Train Epoch: 91   Avg_Loss: 0.40218   Acc: 512/625 (81.920%)\n",
            "Eval:  Avg_Loss: 0.47656   Acc: 172/209 (82.297%)\n",
            "Train Epoch: 92   Avg_Loss: 0.39128   Acc: 517/625 (82.720%)\n",
            "Eval:  Avg_Loss: 0.47966   Acc: 169/209 (80.861%)\n",
            "Train Epoch: 93   Avg_Loss: 0.39174   Acc: 517/625 (82.720%)\n",
            "Eval:  Avg_Loss: 0.51260   Acc: 162/209 (77.512%)\n",
            "Train Epoch: 94   Avg_Loss: 0.41861   Acc: 512/625 (81.920%)\n",
            "Eval:  Avg_Loss: 0.53079   Acc: 161/209 (77.033%)\n",
            "Train Epoch: 95   Avg_Loss: 0.44444   Acc: 497/625 (79.520%)\n",
            "Eval:  Avg_Loss: 0.56114   Acc: 160/209 (76.555%)\n",
            "Train Epoch: 96   Avg_Loss: 0.44414   Acc: 495/625 (79.200%)\n",
            "Eval:  Avg_Loss: 0.53891   Acc: 161/209 (77.033%)\n",
            "Train Epoch: 97   Avg_Loss: 0.43122   Acc: 507/625 (81.120%)\n",
            "Eval:  Avg_Loss: 0.50780   Acc: 167/209 (79.904%)\n",
            "Train Epoch: 98   Avg_Loss: 0.40106   Acc: 512/625 (81.920%)\n",
            "Eval:  Avg_Loss: 0.51407   Acc: 166/209 (79.426%)\n",
            "Train Epoch: 99   Avg_Loss: 0.40152   Acc: 512/625 (81.920%)\n",
            "Eval:  Avg_Loss: 0.48159   Acc: 170/209 (81.340%)\n",
            "Train Epoch: 100   Avg_Loss: 0.39439   Acc: 510/625 (81.600%)\n",
            "Eval:  Avg_Loss: 0.48848   Acc: 168/209 (80.383%)\n",
            "Train Epoch: 101   Avg_Loss: 0.39214   Acc: 521/625 (83.360%)\n",
            "Eval:  Avg_Loss: 0.49969   Acc: 166/209 (79.426%)\n",
            "Train Epoch: 102   Avg_Loss: 0.39716   Acc: 521/625 (83.360%)\n",
            "Eval:  Avg_Loss: 0.49702   Acc: 167/209 (79.904%)\n",
            "Train Epoch: 103   Avg_Loss: 0.39275   Acc: 514/625 (82.240%)\n",
            "Eval:  Avg_Loss: 0.47265   Acc: 167/209 (79.904%)\n",
            "Train Epoch: 104   Avg_Loss: 0.39044   Acc: 515/625 (82.400%)\n",
            "Eval:  Avg_Loss: 0.48199   Acc: 169/209 (80.861%)\n",
            "Train Epoch: 105   Avg_Loss: 0.38762   Acc: 516/625 (82.560%)\n",
            "Eval:  Avg_Loss: 0.48932   Acc: 171/209 (81.818%)\n",
            "Train Epoch: 106   Avg_Loss: 0.39039   Acc: 521/625 (83.360%)\n",
            "Eval:  Avg_Loss: 0.48872   Acc: 171/209 (81.818%)\n",
            "Train Epoch: 107   Avg_Loss: 0.38481   Acc: 521/625 (83.360%)\n",
            "Eval:  Avg_Loss: 0.48275   Acc: 170/209 (81.340%)\n",
            "Train Epoch: 108   Avg_Loss: 0.38650   Acc: 520/625 (83.200%)\n",
            "Eval:  Avg_Loss: 0.48398   Acc: 169/209 (80.861%)\n",
            "Train Epoch: 109   Avg_Loss: 0.38572   Acc: 518/625 (82.880%)\n",
            "Eval:  Avg_Loss: 0.48219   Acc: 170/209 (81.340%)\n",
            "Train Epoch: 110   Avg_Loss: 0.39600   Acc: 518/625 (82.880%)\n",
            "Eval:  Avg_Loss: 0.49286   Acc: 170/209 (81.340%)\n",
            "Train Epoch: 111   Avg_Loss: 0.38380   Acc: 521/625 (83.360%)\n",
            "Eval:  Avg_Loss: 0.48556   Acc: 169/209 (80.861%)\n",
            "Train Epoch: 112   Avg_Loss: 0.38629   Acc: 515/625 (82.400%)\n",
            "Eval:  Avg_Loss: 0.50473   Acc: 170/209 (81.340%)\n",
            "Train Epoch: 113   Avg_Loss: 0.38515   Acc: 518/625 (82.880%)\n",
            "Eval:  Avg_Loss: 0.49852   Acc: 168/209 (80.383%)\n",
            "Train Epoch: 114   Avg_Loss: 0.38524   Acc: 518/625 (82.880%)\n",
            "Eval:  Avg_Loss: 0.49529   Acc: 167/209 (79.904%)\n",
            "Train Epoch: 115   Avg_Loss: 0.38404   Acc: 522/625 (83.520%)\n",
            "Eval:  Avg_Loss: 0.48973   Acc: 170/209 (81.340%)\n",
            "Train Epoch: 116   Avg_Loss: 0.38940   Acc: 515/625 (82.400%)\n",
            "Eval:  Avg_Loss: 0.49990   Acc: 172/209 (82.297%)\n",
            "Train Epoch: 117   Avg_Loss: 0.40124   Acc: 517/625 (82.720%)\n",
            "Eval:  Avg_Loss: 0.49503   Acc: 168/209 (80.383%)\n",
            "Train Epoch: 118   Avg_Loss: 0.38342   Acc: 519/625 (83.040%)\n",
            "Eval:  Avg_Loss: 0.49092   Acc: 170/209 (81.340%)\n",
            "Train Epoch: 119   Avg_Loss: 0.38867   Acc: 517/625 (82.720%)\n",
            "Eval:  Avg_Loss: 0.48189   Acc: 167/209 (79.904%)\n",
            "Train Epoch: 120   Avg_Loss: 0.39587   Acc: 516/625 (82.560%)\n",
            "Eval:  Avg_Loss: 0.49970   Acc: 169/209 (80.861%)\n",
            "Train Epoch: 121   Avg_Loss: 0.39440   Acc: 520/625 (83.200%)\n",
            "Eval:  Avg_Loss: 0.49823   Acc: 168/209 (80.383%)\n",
            "Train Epoch: 122   Avg_Loss: 0.38783   Acc: 515/625 (82.400%)\n",
            "Eval:  Avg_Loss: 0.48728   Acc: 169/209 (80.861%)\n",
            "Train Epoch: 123   Avg_Loss: 0.38175   Acc: 522/625 (83.520%)\n",
            "Eval:  Avg_Loss: 0.49036   Acc: 171/209 (81.818%)\n",
            "Train Epoch: 124   Avg_Loss: 0.38176   Acc: 524/625 (83.840%)\n",
            "Eval:  Avg_Loss: 0.49770   Acc: 171/209 (81.818%)\n",
            "Train Epoch: 125   Avg_Loss: 0.38510   Acc: 519/625 (83.040%)\n",
            "Eval:  Avg_Loss: 0.49473   Acc: 171/209 (81.818%)\n",
            "Train Epoch: 126   Avg_Loss: 0.38800   Acc: 516/625 (82.560%)\n",
            "Eval:  Avg_Loss: 0.52743   Acc: 168/209 (80.383%)\n",
            "Train Epoch: 127   Avg_Loss: 0.39160   Acc: 513/625 (82.080%)\n",
            "Eval:  Avg_Loss: 0.48546   Acc: 170/209 (81.340%)\n",
            "Train Epoch: 128   Avg_Loss: 0.37853   Acc: 519/625 (83.040%)\n",
            "Eval:  Avg_Loss: 0.51302   Acc: 170/209 (81.340%)\n",
            "Train Epoch: 129   Avg_Loss: 0.39453   Acc: 507/625 (81.120%)\n",
            "Eval:  Avg_Loss: 0.51586   Acc: 171/209 (81.818%)\n",
            "Train Epoch: 130   Avg_Loss: 0.40173   Acc: 510/625 (81.600%)\n",
            "Eval:  Avg_Loss: 0.49641   Acc: 171/209 (81.818%)\n",
            "Train Epoch: 131   Avg_Loss: 0.39324   Acc: 518/625 (82.880%)\n",
            "Eval:  Avg_Loss: 0.49840   Acc: 168/209 (80.383%)\n",
            "Train Epoch: 132   Avg_Loss: 0.37581   Acc: 525/625 (84.000%)\n",
            "Eval:  Avg_Loss: 0.49949   Acc: 171/209 (81.818%)\n",
            "Train Epoch: 133   Avg_Loss: 0.37996   Acc: 522/625 (83.520%)\n",
            "Eval:  Avg_Loss: 0.50876   Acc: 167/209 (79.904%)\n",
            "Train Epoch: 134   Avg_Loss: 0.37961   Acc: 520/625 (83.200%)\n",
            "Eval:  Avg_Loss: 0.49296   Acc: 169/209 (80.861%)\n",
            "Train Epoch: 135   Avg_Loss: 0.37558   Acc: 522/625 (83.520%)\n",
            "Eval:  Avg_Loss: 0.57132   Acc: 162/209 (77.512%)\n",
            "Train Epoch: 136   Avg_Loss: 0.39811   Acc: 515/625 (82.400%)\n",
            "Eval:  Avg_Loss: 0.49410   Acc: 168/209 (80.383%)\n",
            "Train Epoch: 137   Avg_Loss: 0.38393   Acc: 523/625 (83.680%)\n",
            "Eval:  Avg_Loss: 0.50219   Acc: 171/209 (81.818%)\n",
            "Train Epoch: 138   Avg_Loss: 0.37936   Acc: 517/625 (82.720%)\n",
            "Eval:  Avg_Loss: 0.49761   Acc: 169/209 (80.861%)\n",
            "Train Epoch: 139   Avg_Loss: 0.37451   Acc: 521/625 (83.360%)\n",
            "Eval:  Avg_Loss: 0.49889   Acc: 172/209 (82.297%)\n",
            "Train Epoch: 140   Avg_Loss: 0.38336   Acc: 516/625 (82.560%)\n",
            "Eval:  Avg_Loss: 0.48938   Acc: 172/209 (82.297%)\n",
            "Train Epoch: 141   Avg_Loss: 0.37385   Acc: 518/625 (82.880%)\n",
            "Eval:  Avg_Loss: 0.50287   Acc: 170/209 (81.340%)\n",
            "Train Epoch: 142   Avg_Loss: 0.38751   Acc: 521/625 (83.360%)\n",
            "Eval:  Avg_Loss: 0.53292   Acc: 168/209 (80.383%)\n",
            "Train Epoch: 143   Avg_Loss: 0.37547   Acc: 518/625 (82.880%)\n",
            "Eval:  Avg_Loss: 0.50701   Acc: 174/209 (83.254%)\n",
            "Train Epoch: 144   Avg_Loss: 0.37240   Acc: 524/625 (83.840%)\n",
            "Eval:  Avg_Loss: 0.49874   Acc: 169/209 (80.861%)\n",
            "Train Epoch: 145   Avg_Loss: 0.37173   Acc: 522/625 (83.520%)\n",
            "Eval:  Avg_Loss: 0.50836   Acc: 169/209 (80.861%)\n",
            "Train Epoch: 146   Avg_Loss: 0.37251   Acc: 517/625 (82.720%)\n",
            "Eval:  Avg_Loss: 0.50349   Acc: 172/209 (82.297%)\n",
            "Train Epoch: 147   Avg_Loss: 0.38482   Acc: 522/625 (83.520%)\n",
            "Eval:  Avg_Loss: 0.51314   Acc: 170/209 (81.340%)\n",
            "Train Epoch: 148   Avg_Loss: 0.36882   Acc: 526/625 (84.160%)\n",
            "Eval:  Avg_Loss: 0.51153   Acc: 169/209 (80.861%)\n",
            "Train Epoch: 149   Avg_Loss: 0.37203   Acc: 525/625 (84.000%)\n",
            "Eval:  Avg_Loss: 0.50741   Acc: 169/209 (80.861%)\n",
            "Train Epoch: 150   Avg_Loss: 0.38129   Acc: 517/625 (82.720%)\n",
            "Eval:  Avg_Loss: 0.54559   Acc: 171/209 (81.818%)\n",
            "Train Epoch: 151   Avg_Loss: 0.37521   Acc: 522/625 (83.520%)\n",
            "Eval:  Avg_Loss: 0.49891   Acc: 171/209 (81.818%)\n",
            "Train Epoch: 152   Avg_Loss: 0.36957   Acc: 527/625 (84.320%)\n",
            "Eval:  Avg_Loss: 0.51073   Acc: 173/209 (82.775%)\n",
            "Train Epoch: 153   Avg_Loss: 0.37244   Acc: 523/625 (83.680%)\n",
            "Eval:  Avg_Loss: 0.50734   Acc: 172/209 (82.297%)\n",
            "Train Epoch: 154   Avg_Loss: 0.37123   Acc: 522/625 (83.520%)\n",
            "Eval:  Avg_Loss: 0.52534   Acc: 174/209 (83.254%)\n",
            "Train Epoch: 155   Avg_Loss: 0.37037   Acc: 523/625 (83.680%)\n",
            "Eval:  Avg_Loss: 0.50773   Acc: 171/209 (81.818%)\n",
            "Train Epoch: 156   Avg_Loss: 0.39053   Acc: 519/625 (83.040%)\n",
            "Eval:  Avg_Loss: 0.52687   Acc: 172/209 (82.297%)\n",
            "Train Epoch: 157   Avg_Loss: 0.37225   Acc: 519/625 (83.040%)\n",
            "Eval:  Avg_Loss: 0.51188   Acc: 173/209 (82.775%)\n",
            "Train Epoch: 158   Avg_Loss: 0.37247   Acc: 523/625 (83.680%)\n",
            "Eval:  Avg_Loss: 0.56430   Acc: 165/209 (78.947%)\n",
            "Train Epoch: 159   Avg_Loss: 0.38521   Acc: 515/625 (82.400%)\n",
            "Eval:  Avg_Loss: 0.53368   Acc: 171/209 (81.818%)\n",
            "Train Epoch: 160   Avg_Loss: 0.37899   Acc: 515/625 (82.400%)\n",
            "Eval:  Avg_Loss: 0.51224   Acc: 169/209 (80.861%)\n",
            "Train Epoch: 161   Avg_Loss: 0.38152   Acc: 524/625 (83.840%)\n",
            "Eval:  Avg_Loss: 0.52984   Acc: 171/209 (81.818%)\n",
            "Train Epoch: 162   Avg_Loss: 0.37566   Acc: 519/625 (83.040%)\n",
            "Eval:  Avg_Loss: 0.51671   Acc: 171/209 (81.818%)\n",
            "Train Epoch: 163   Avg_Loss: 0.36769   Acc: 522/625 (83.520%)\n",
            "Eval:  Avg_Loss: 0.51274   Acc: 173/209 (82.775%)\n",
            "Train Epoch: 164   Avg_Loss: 0.37300   Acc: 520/625 (83.200%)\n",
            "Eval:  Avg_Loss: 0.51740   Acc: 170/209 (81.340%)\n",
            "Train Epoch: 165   Avg_Loss: 0.37034   Acc: 526/625 (84.160%)\n",
            "Eval:  Avg_Loss: 0.51645   Acc: 169/209 (80.861%)\n",
            "Train Epoch: 166   Avg_Loss: 0.37339   Acc: 523/625 (83.680%)\n",
            "Eval:  Avg_Loss: 0.50192   Acc: 169/209 (80.861%)\n",
            "Train Epoch: 167   Avg_Loss: 0.36920   Acc: 520/625 (83.200%)\n",
            "Eval:  Avg_Loss: 0.50809   Acc: 172/209 (82.297%)\n",
            "Train Epoch: 168   Avg_Loss: 0.36800   Acc: 522/625 (83.520%)\n",
            "Eval:  Avg_Loss: 0.52531   Acc: 172/209 (82.297%)\n",
            "Train Epoch: 169   Avg_Loss: 0.36768   Acc: 530/625 (84.800%)\n",
            "Eval:  Avg_Loss: 0.51769   Acc: 173/209 (82.775%)\n",
            "Train Epoch: 170   Avg_Loss: 0.36802   Acc: 518/625 (82.880%)\n",
            "Eval:  Avg_Loss: 0.50726   Acc: 172/209 (82.297%)\n",
            "Train Epoch: 171   Avg_Loss: 0.36471   Acc: 528/625 (84.480%)\n",
            "Eval:  Avg_Loss: 0.51719   Acc: 171/209 (81.818%)\n",
            "Train Epoch: 172   Avg_Loss: 0.36647   Acc: 523/625 (83.680%)\n",
            "Eval:  Avg_Loss: 0.51288   Acc: 173/209 (82.775%)\n",
            "Train Epoch: 173   Avg_Loss: 0.36708   Acc: 521/625 (83.360%)\n",
            "Eval:  Avg_Loss: 0.54386   Acc: 173/209 (82.775%)\n",
            "Train Epoch: 174   Avg_Loss: 0.36670   Acc: 523/625 (83.680%)\n",
            "Eval:  Avg_Loss: 0.52226   Acc: 170/209 (81.340%)\n",
            "Train Epoch: 175   Avg_Loss: 0.37575   Acc: 521/625 (83.360%)\n",
            "Eval:  Avg_Loss: 0.53168   Acc: 170/209 (81.340%)\n",
            "Train Epoch: 176   Avg_Loss: 0.37961   Acc: 518/625 (82.880%)\n",
            "Eval:  Avg_Loss: 0.53916   Acc: 169/209 (80.861%)\n",
            "Train Epoch: 177   Avg_Loss: 0.37118   Acc: 519/625 (83.040%)\n",
            "Eval:  Avg_Loss: 0.51908   Acc: 170/209 (81.340%)\n",
            "Train Epoch: 178   Avg_Loss: 0.36749   Acc: 522/625 (83.520%)\n",
            "Eval:  Avg_Loss: 0.52303   Acc: 173/209 (82.775%)\n",
            "Train Epoch: 179   Avg_Loss: 0.35620   Acc: 525/625 (84.000%)\n",
            "Eval:  Avg_Loss: 0.54379   Acc: 169/209 (80.861%)\n",
            "Train Epoch: 180   Avg_Loss: 0.37936   Acc: 514/625 (82.240%)\n",
            "Eval:  Avg_Loss: 0.52288   Acc: 174/209 (83.254%)\n",
            "Train Epoch: 181   Avg_Loss: 0.36323   Acc: 524/625 (83.840%)\n",
            "Eval:  Avg_Loss: 0.52469   Acc: 170/209 (81.340%)\n",
            "Train Epoch: 182   Avg_Loss: 0.36308   Acc: 526/625 (84.160%)\n",
            "Eval:  Avg_Loss: 0.52866   Acc: 164/209 (78.469%)\n",
            "Train Epoch: 183   Avg_Loss: 0.35521   Acc: 525/625 (84.000%)\n",
            "Eval:  Avg_Loss: 0.53209   Acc: 173/209 (82.775%)\n",
            "Train Epoch: 184   Avg_Loss: 0.38128   Acc: 513/625 (82.080%)\n",
            "Eval:  Avg_Loss: 0.51441   Acc: 171/209 (81.818%)\n",
            "Train Epoch: 185   Avg_Loss: 0.36129   Acc: 525/625 (84.000%)\n",
            "Eval:  Avg_Loss: 0.52088   Acc: 170/209 (81.340%)\n",
            "Train Epoch: 186   Avg_Loss: 0.37065   Acc: 522/625 (83.520%)\n",
            "Eval:  Avg_Loss: 0.54024   Acc: 171/209 (81.818%)\n",
            "Train Epoch: 187   Avg_Loss: 0.37793   Acc: 524/625 (83.840%)\n",
            "Eval:  Avg_Loss: 0.53870   Acc: 169/209 (80.861%)\n",
            "Train Epoch: 188   Avg_Loss: 0.36340   Acc: 520/625 (83.200%)\n",
            "Eval:  Avg_Loss: 0.53946   Acc: 171/209 (81.818%)\n",
            "Train Epoch: 189   Avg_Loss: 0.41999   Acc: 498/625 (79.680%)\n",
            "Eval:  Avg_Loss: 0.56539   Acc: 170/209 (81.340%)\n",
            "Train Epoch: 190   Avg_Loss: 0.39581   Acc: 516/625 (82.560%)\n",
            "Eval:  Avg_Loss: 0.54852   Acc: 170/209 (81.340%)\n",
            "Train Epoch: 191   Avg_Loss: 0.36745   Acc: 524/625 (83.840%)\n",
            "Eval:  Avg_Loss: 0.51737   Acc: 169/209 (80.861%)\n",
            "Train Epoch: 192   Avg_Loss: 0.36335   Acc: 525/625 (84.000%)\n",
            "Eval:  Avg_Loss: 0.51780   Acc: 170/209 (81.340%)\n",
            "Train Epoch: 193   Avg_Loss: 0.35984   Acc: 528/625 (84.480%)\n",
            "Eval:  Avg_Loss: 0.50944   Acc: 170/209 (81.340%)\n",
            "Train Epoch: 194   Avg_Loss: 0.36063   Acc: 528/625 (84.480%)\n",
            "Eval:  Avg_Loss: 0.55411   Acc: 169/209 (80.861%)\n",
            "Train Epoch: 195   Avg_Loss: 0.37550   Acc: 520/625 (83.200%)\n",
            "Eval:  Avg_Loss: 0.54010   Acc: 167/209 (79.904%)\n",
            "Train Epoch: 196   Avg_Loss: 0.35938   Acc: 532/625 (85.120%)\n",
            "Eval:  Avg_Loss: 0.54037   Acc: 166/209 (79.426%)\n",
            "Train Epoch: 197   Avg_Loss: 0.37377   Acc: 524/625 (83.840%)\n",
            "Eval:  Avg_Loss: 0.52704   Acc: 167/209 (79.904%)\n",
            "Train Epoch: 198   Avg_Loss: 0.35719   Acc: 526/625 (84.160%)\n",
            "Eval:  Avg_Loss: 0.51729   Acc: 170/209 (81.340%)\n",
            "Train Epoch: 199   Avg_Loss: 0.36419   Acc: 525/625 (84.000%)\n",
            "Eval:  Avg_Loss: 0.54045   Acc: 172/209 (82.297%)\n",
            "Train Epoch: 200   Avg_Loss: 0.37650   Acc: 516/625 (82.560%)\n",
            "Eval:  Avg_Loss: 0.53360   Acc: 169/209 (80.861%)\n",
            "\n",
            "\n",
            "\n",
            "Optimization ended.\n",
            "\n"
          ],
          "name": "stdout"
        }
      ]
    },
    {
      "cell_type": "markdown",
      "metadata": {
        "colab_type": "text",
        "id": "86OZRLrjavmd"
      },
      "source": [
        "## Interpreting the output of the neural network"
      ]
    },
    {
      "cell_type": "code",
      "metadata": {
        "colab_type": "code",
        "id": "mklvQruYavme",
        "outputId": "d2edede4-0b4b-4e2a-d2ea-b216354e13bb",
        "colab": {
          "base_uri": "https://localhost:8080/",
          "height": 391
        }
      },
      "source": [
        "# Activate the evaluation mode\n",
        "neural_net = neural_net.eval()\n",
        "\n",
        "# Select the first 10 data points of the validation set\n",
        "data, target = val_dataset[0:10]\n",
        "data = data.to(device)\n",
        "\n",
        "# Executing the neural network\n",
        "output = neural_net(data)   # equivalent to neural_net.forward(data)\n",
        "\n",
        "# Transform the output into a probability distribution with a softmax function\n",
        "output_proba = F.softmax(output, dim=1) # dim=1 -> for each sample\n",
        "\n",
        "\n",
        "# Print the probability\n",
        "print(output)\n",
        "print(output_proba)\n",
        "print(\"REAL:\")\n",
        "print(target)"
      ],
      "execution_count": 69,
      "outputs": [
        {
          "output_type": "stream",
          "text": [
            "tensor([[ 0.3019, -1.6501],\n",
            "        [-0.3969, -0.4270],\n",
            "        [-0.4038, -0.1794],\n",
            "        [-0.5407, -0.0449],\n",
            "        [-0.1907, -0.5694],\n",
            "        [ 0.5905, -1.0280],\n",
            "        [ 0.1778, -1.0003],\n",
            "        [-0.4616, -0.4043],\n",
            "        [-2.7787,  2.3400],\n",
            "        [-2.4006,  3.0122]], device='cuda:0', grad_fn=<AddmmBackward>)\n",
            "tensor([[0.8757, 0.1243],\n",
            "        [0.5075, 0.4925],\n",
            "        [0.4441, 0.5559],\n",
            "        [0.3785, 0.6215],\n",
            "        [0.5936, 0.4064],\n",
            "        [0.8346, 0.1654],\n",
            "        [0.7646, 0.2354],\n",
            "        [0.4857, 0.5143],\n",
            "        [0.0059, 0.9941],\n",
            "        [0.0044, 0.9956]], device='cuda:0', grad_fn=<SoftmaxBackward>)\n",
            "REAL:\n",
            "tensor([0, 0, 0, 0, 0, 0, 0, 1, 1, 1])\n"
          ],
          "name": "stdout"
        }
      ]
    },
    {
      "cell_type": "code",
      "metadata": {
        "colab_type": "code",
        "id": "RvIEqKt0qjeT",
        "outputId": "6a4ef4b7-61a0-4a08-83ba-134f5711d1a8",
        "colab": {
          "base_uri": "https://localhost:8080/",
          "height": 85
        }
      },
      "source": [
        "# For each example, retrieve the class with the highest probability.\n",
        "_, prediction = torch.max(output_proba, dim=1)\n",
        "\n",
        "print(\"Model predictions\")\n",
        "print(prediction)\n",
        "\n",
        "print(\"Targets\")\n",
        "print(target)"
      ],
      "execution_count": 70,
      "outputs": [
        {
          "output_type": "stream",
          "text": [
            "Model predictions\n",
            "tensor([0, 0, 1, 1, 0, 0, 0, 1, 1, 1], device='cuda:0')\n",
            "Targets\n",
            "tensor([0, 0, 0, 0, 0, 0, 0, 1, 1, 1])\n"
          ],
          "name": "stdout"
        }
      ]
    },
    {
      "cell_type": "code",
      "metadata": {
        "id": "uQ1EKgnnMxUC",
        "colab_type": "code",
        "colab": {
          "base_uri": "https://localhost:8080/",
          "height": 54
        },
        "outputId": "99a239f2-56cc-40d7-ddb8-ebe5ffb80fed"
      },
      "source": [
        "print(train_losses)"
      ],
      "execution_count": 71,
      "outputs": [
        {
          "output_type": "stream",
          "text": [
            "[0.6398628041744232, 0.6298152451515198, 0.6240142078399659, 0.6224418734550476, 0.6116425679206848, 0.6137747161865235, 0.6130768028259277, 0.6180725090026855, 0.5988823808670044, 0.6178476811408996, 0.6047561731338501, 0.5980249933242798, 0.5942432779312133, 0.5846096356391907, 0.5769428328514099, 0.578748664522171, 0.5614303536415101, 0.5551910374164581, 0.5410552395820618, 0.5251126284599305, 0.5078349461555481, 0.5207674872398377, 0.498782288646698, 0.5082758500099183, 0.4718041365146637, 0.4701589783191681, 0.4634090138912201, 0.48163444452285764, 0.46150743503570557, 0.4759441283226013, 0.46190902390480043, 0.4545929161071777, 0.44683667726516724, 0.4485681179523468, 0.44332820701599124, 0.4500289608001709, 0.43964652652740477, 0.43716421928405763, 0.44266166381835936, 0.4355876050949097, 0.4295447675704956, 0.43342325019836425, 0.43150126962661745, 0.4331277132034302, 0.4624728916168213, 0.44127604694366457, 0.4374103538513184, 0.4498801263809204, 0.42214690036773683, 0.42525214343070983, 0.4232546558380127, 0.4218296718120575, 0.42295991501808167, 0.4385272387981415, 0.43408187325000763, 0.42750153245925904, 0.41738280997276306, 0.4112552968978882, 0.43658177547454835, 0.4686566390514374, 0.4298793360710144, 0.42138479766845705, 0.41083388671875, 0.4093625856399536, 0.414241780424118, 0.4178170901298523, 0.4072713722229004, 0.40604208421707155, 0.4044740299224854, 0.41343106112480166, 0.4074221648693085, 0.4093617703437805, 0.4063628492355347, 0.3981797096729279, 0.4030919780254364, 0.4055247371673584, 0.41571258192062377, 0.4063074240207672, 0.39736451787948607, 0.4072276348590851, 0.4075240386009216, 0.40012920265197754, 0.3983614102363586, 0.4022406231880188, 0.4033823246002197, 0.3986728485107422, 0.4067918911933899, 0.401885422039032, 0.4473731267929077, 0.4343478222370148, 0.402182559967041, 0.39128476896286013, 0.3917417357444763, 0.41861480379104615, 0.44444161005020144, 0.4441443090438843, 0.43122194471359254, 0.4010626447200775, 0.4015247185230255, 0.3943896250247955, 0.3921379715442658, 0.3971642768859863, 0.39275461111068727, 0.3904396570205688, 0.38761558475494384, 0.39038844079971313, 0.3848116635799408, 0.38650365438461304, 0.3857207058906555, 0.39599671778678897, 0.38380229439735414, 0.3862918665409088, 0.3851485034942627, 0.3852394565105438, 0.384041246342659, 0.38939845905303955, 0.40124061307907105, 0.3834218138217926, 0.38867042093276977, 0.39586816883087156, 0.3944036074638367, 0.38782967953681946, 0.3817489182472229, 0.38175929923057556, 0.38510418663024903, 0.3880030273914337, 0.39159538407325745, 0.3785345346212387, 0.3945331007003784, 0.4017312426567078, 0.39324160141944886, 0.3758126085042954, 0.37995706453323363, 0.3796086354255676, 0.3755807207107544, 0.3981109603881836, 0.3839283706188202, 0.37935618081092837, 0.37451210522651673, 0.383361994600296, 0.37385019369125366, 0.38750543575286867, 0.37547464661598207, 0.3724030895233154, 0.371729697227478, 0.3725061227321625, 0.38481529178619384, 0.36881683931350706, 0.37202629766464235, 0.3812933990478516, 0.375214986371994, 0.3695733855247498, 0.3724437402248383, 0.3712289452314377, 0.3703702293872833, 0.3905349671840668, 0.3722539586544037, 0.37247307970523835, 0.3852084587574005, 0.3789948281288147, 0.38151979744434356, 0.3756568560123444, 0.3676915565013886, 0.37299842343330386, 0.370342764043808, 0.3733896710395813, 0.369200190448761, 0.36799717164039614, 0.3676758608818054, 0.36802425577640535, 0.3647050887107849, 0.36646533002853393, 0.3670783495426178, 0.3667006655693054, 0.3757477252006531, 0.3796060919761658, 0.3711772904872894, 0.36749478602409363, 0.35619850454330443, 0.3793559914588928, 0.36322662739753725, 0.36307645606994626, 0.35521242191791536, 0.38128126990795136, 0.36128706769943236, 0.3706507875919342, 0.3779330729484558, 0.3633953956604004, 0.4199867931365967, 0.39580981798172, 0.3674543338775635, 0.36335295271873475, 0.3598392873764038, 0.3606255620002747, 0.37549554200172425, 0.3593750126838684, 0.3737686191558838, 0.35718660879135133, 0.36419090719223024, 0.3764988742351532]\n"
          ],
          "name": "stdout"
        }
      ]
    },
    {
      "cell_type": "markdown",
      "metadata": {
        "colab_type": "text",
        "id": "V11J3Jihavmy"
      },
      "source": [
        "## Visualizing of the learning curve"
      ]
    },
    {
      "cell_type": "markdown",
      "metadata": {
        "colab_type": "text",
        "id": "j9_9C_tXavmz"
      },
      "source": [
        "The visualization of the learning curve allows to detect possible problems that may have occurred during learning, for example, overfitting."
      ]
    },
    {
      "cell_type": "code",
      "metadata": {
        "colab_type": "code",
        "id": "iNcbpl0tavm0",
        "outputId": "713d50f2-f268-4ad4-9e42-3fda1b42cd0e",
        "colab": {
          "base_uri": "https://localhost:8080/",
          "height": 283
        }
      },
      "source": [
        "import matplotlib.pyplot as plt\n",
        "%matplotlib inline\n",
        "\n",
        "x = list(range(len(train_losses)))\n",
        "\n",
        "ax = plt.subplot(111)\n",
        "plt.plot(x, train_losses, 'r', label=\"Train\")\n",
        "plt.plot(x, val_losses, 'g', label=\"Validation\")\n",
        "plt.xlabel('epoch')\n",
        "plt.ylabel('Cross-entropy loss')\n",
        "plt.grid()\n",
        "leg = plt.legend(loc='best', ncol=2, mode=\"expand\", shadow=False, fancybox=False)\n",
        "leg.get_frame().set_alpha(0.99)"
      ],
      "execution_count": 74,
      "outputs": [
        {
          "output_type": "display_data",
          "data": {
            "image/png": "[encoded data removed]",
            "text/plain": [
              "<Figure size 432x288 with 1 Axes>"
            ]
          },
          "metadata": {
            "tags": [],
            "needs_background": "light"
          }
        }
      ]
    },
    {
      "cell_type": "code",
      "metadata": {
        "colab_type": "code",
        "id": "g-VGQ2pMavm4",
        "outputId": "088a1a9d-c44b-44b9-ac0d-5831c9725095",
        "colab": {
          "base_uri": "https://localhost:8080/",
          "height": 283
        }
      },
      "source": [
        "x = list(range(len(train_accuracies)))\n",
        "\n",
        "ax = plt.subplot(111)\n",
        "plt.plot(x, train_accuracies, 'r', label=\"Train\")\n",
        "plt.plot(x, val_accuracies, 'g', label=\"Validation\")\n",
        "plt.xlabel('epoch')\n",
        "plt.ylabel('Accuracy')\n",
        "plt.grid()\n",
        "leg = plt.legend(loc='best', ncol=2, mode=\"expand\", shadow=False, fancybox=False)\n",
        "leg.get_frame().set_alpha(0.99)"
      ],
      "execution_count": 76,
      "outputs": [
        {
          "output_type": "display_data",
          "data": {
            "image/png": "[encoded data removed]",
            "text/plain": [
              "<Figure size 432x288 with 1 Axes>"
            ]
          },
          "metadata": {
            "tags": [],
            "needs_background": "light"
          }
        }
      ]
    },
    {
      "cell_type": "markdown",
      "metadata": {
        "colab_type": "text",
        "id": "8oktkpkuqjet"
      },
      "source": [
        "**Questions**:\n",
        "\n",
        "*   What do you observe in the previous graphs?\n",
        "*   At which epoch is it interesting to retrieve the model parameters for inference?\n",
        "\n"
      ]
    },
    {
      "cell_type": "markdown",
      "metadata": {
        "id": "qwhRt39yzug-",
        "colab_type": "text"
      },
      "source": [
        "... # To complete.\n"
      ]
    },
    {
      "cell_type": "markdown",
      "metadata": {
        "colab_type": "text",
        "id": "XK_eUsq3avm8"
      },
      "source": [
        "# How to evaluate a model on the test set?"
      ]
    },
    {
      "cell_type": "markdown",
      "metadata": {
        "colab_type": "text",
        "id": "4UREO5elavm8"
      },
      "source": [
        "We can finally evaluate our model on our test dataset."
      ]
    },
    {
      "cell_type": "code",
      "metadata": {
        "colab_type": "code",
        "id": "pPWvDM-qavm8",
        "outputId": "ce6339a4-9c6f-484f-c850-c1aa8a4bb704",
        "colab": {
          "base_uri": "https://localhost:8080/",
          "height": 34
        }
      },
      "source": [
        "test_loss, test_acc = evaluate(neural_net, test_loader, device)"
      ],
      "execution_count": 77,
      "outputs": [
        {
          "output_type": "stream",
          "text": [
            "Eval:  Avg_Loss: 0.50145   Acc: 160/209 (76.555%)\n"
          ],
          "name": "stdout"
        }
      ]
    },
    {
      "cell_type": "markdown",
      "metadata": {
        "colab_type": "text",
        "id": "EvP_-KUwqjez"
      },
      "source": [
        "**Questions**:\n",
        "\n",
        "a) Compare validation and test metrics. <br/>"
      ]
    },
    {
      "cell_type": "markdown",
      "metadata": {
        "id": "Ov4CKUFh5tun",
        "colab_type": "text"
      },
      "source": [
        "... # To complete.\n"
      ]
    },
    {
      "cell_type": "code",
      "metadata": {
        "id": "SfykotIrJV0Y",
        "colab_type": "code",
        "colab": {}
      },
      "source": [
        ""
      ],
      "execution_count": 0,
      "outputs": []
    }
  ]
}